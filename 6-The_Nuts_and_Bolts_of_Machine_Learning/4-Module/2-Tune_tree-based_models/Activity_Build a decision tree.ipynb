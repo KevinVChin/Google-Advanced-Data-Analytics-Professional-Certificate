{
 "cells": [
  {
   "cell_type": "markdown",
   "metadata": {
    "id": "700acefd-8120-42a9-a650-c610467e2a4c"
   },
   "source": [
    "# Activity: Build a decision tree\n",
    "\n",
    "## Introduction\n",
    "\n",
    "A decision tree model can makes predictions for a target based on multiple features. Because decision trees are used across a wide array of industries, becoming proficient in the process of building one will help you expand your skill set in a widely-applicable way.   \n",
    "\n",
    "For this activity, you work as a consultant for an airline. The airline is interested in predicting whether a future customer would be satisfied with their services given customer feedback given previous customer feedback about their flight experience. The airline would like you to construct and evaluate a model that can accomplish this goal. Specifically, they are interested in knowing which features are most important to customer satisfaction.\n",
    "\n",
    "The data for this activity includes survey responses from 129,880 customers. It includes data points such as class, flight distance, and in-flight entertainment, among others. In a previous activity, you utilized a binomial logistic regression model to help the airline better understand this data. In this activity, your goal will be to utilize a decision tree model to predict whether or not a customer will be satisfied with their flight experience. \n",
    "\n",
    "Because this activity uses a dataset from the industry, you will need to conduct basic EDA, data cleaning, and other manipulations to prepare the data for modeling.\n",
    "\n",
    "In this activity, you’ll practice the following skills:\n",
    "\n",
    "* Importing packages and loading data\n",
    "* Exploring the data and completing the cleaning process\n",
    "* Building a decision tree model \n",
    "* Tuning hyperparameters using `GridSearchCV`\n",
    "* Evaluating a decision tree model using a confusion matrix and various other plots"
   ]
  },
  {
   "cell_type": "markdown",
   "metadata": {
    "id": "b42252b9-b980-4ee0-8cfd-82f4239b6d1a"
   },
   "source": [
    "## Step 1: Imports\n",
    "\n",
    "Import relevant Python packages. Use `DecisionTreeClassifier`,` plot_tree`, and various imports from `sklearn.metrics` to build, visualize, and evaluate the model."
   ]
  },
  {
   "cell_type": "markdown",
   "metadata": {
    "id": "d871f2b3"
   },
   "source": [
    "### Import packages"
   ]
  },
  {
   "cell_type": "code",
   "execution_count": 1,
   "metadata": {
    "id": "aacf7b0d-d652-46c4-a9fc-f1ff377bdd0c"
   },
   "outputs": [],
   "source": [
    "# Standard operational package imports\n",
    "import numpy as np\n",
    "import pandas as pd\n",
    "\n",
    "# Important imports for modeling and evaluation\n",
    "from sklearn.model_selection import train_test_split\n",
    "from sklearn.tree import DecisionTreeClassifier\n",
    "from sklearn.tree import plot_tree\n",
    "from sklearn.model_selection import GridSearchCV\n",
    "from sklearn.metrics import classification_report\n",
    "from sklearn.metrics import confusion_matrix, ConfusionMatrixDisplay\n",
    "import sklearn.metrics as metrics\n",
    "\n",
    "# Visualization package imports\n",
    "import seaborn as sns\n",
    "import matplotlib.pyplot as plt"
   ]
  },
  {
   "cell_type": "markdown",
   "metadata": {
    "id": "6b7f8803-44ee-47cf-b97a-efaf5c0fdd59",
    "tags": []
   },
   "source": [
    "### Load the dataset"
   ]
  },
  {
   "cell_type": "markdown",
   "metadata": {
    "id": "a60990fd-4723-4a2b-a0db-9dfa6c7c881c"
   },
   "source": [
    "`Pandas` is used to load the **Invistico_Airline.csv** dataset. The resulting pandas DataFrame is saved in a variable named `df_original`. As shown in this cell, the dataset has been automatically loaded in for you. You do not need to download the .csv file, or provide more code, in order to access the dataset and proceed with this lab. Please continue with this activity by completing the following instructions."
   ]
  },
  {
   "cell_type": "code",
   "execution_count": 2,
   "metadata": {
    "id": "80535d2f-8b1a-4715-b07a-f3734d8cc4c5"
   },
   "outputs": [],
   "source": [
    "# RUN THIS CELL TO IMPORT YOUR DATA.\n",
    "\n",
    "### YOUR CODE HERE ###\n",
    "\n",
    "df_original = pd.read_csv(\"Invistico_Airline.csv\")"
   ]
  },
  {
   "cell_type": "markdown",
   "metadata": {
    "id": "7bc1c9bb"
   },
   "source": [
    "<details>\n",
    "  <summary><h4><strong>Hint 1</strong></h4></summary>\n",
    "\n",
    "Use a function from the pandas library to read in the csv file.\n",
    "    \n",
    "</details>"
   ]
  },
  {
   "cell_type": "markdown",
   "metadata": {
    "id": "d8807846"
   },
   "source": [
    "<details>\n",
    "  <summary><h4><strong>Hint 2</strong></h4></summary>\n",
    "\n",
    "Use the `read_csv` function and pass in the file name as a string. \n",
    "\n",
    "</details>"
   ]
  },
  {
   "cell_type": "markdown",
   "metadata": {
    "id": "6035eeb5"
   },
   "source": [
    "<details>\n",
    "  <summary><h4><strong>Hint 3</strong></h4></summary>\n",
    "\n",
    "Use `pd.read_csv(\"insertfilenamehere\")`.\n",
    "\n",
    "</details>"
   ]
  },
  {
   "cell_type": "markdown",
   "metadata": {
    "id": "46448192-f2f8-4f78-9f76-6e4bb699da7b"
   },
   "source": [
    "### Output the first 10 rows of data"
   ]
  },
  {
   "cell_type": "code",
   "execution_count": 3,
   "metadata": {
    "id": "U8JZjN-zJwx6"
   },
   "outputs": [
    {
     "data": {
      "text/html": [
       "<div>\n",
       "<style scoped>\n",
       "    .dataframe tbody tr th:only-of-type {\n",
       "        vertical-align: middle;\n",
       "    }\n",
       "\n",
       "    .dataframe tbody tr th {\n",
       "        vertical-align: top;\n",
       "    }\n",
       "\n",
       "    .dataframe thead th {\n",
       "        text-align: right;\n",
       "    }\n",
       "</style>\n",
       "<table border=\"1\" class=\"dataframe\">\n",
       "  <thead>\n",
       "    <tr style=\"text-align: right;\">\n",
       "      <th></th>\n",
       "      <th>satisfaction</th>\n",
       "      <th>Customer Type</th>\n",
       "      <th>Age</th>\n",
       "      <th>Type of Travel</th>\n",
       "      <th>Class</th>\n",
       "      <th>Flight Distance</th>\n",
       "      <th>Seat comfort</th>\n",
       "      <th>Departure/Arrival time convenient</th>\n",
       "      <th>Food and drink</th>\n",
       "      <th>Gate location</th>\n",
       "      <th>Inflight wifi service</th>\n",
       "      <th>Inflight entertainment</th>\n",
       "      <th>Online support</th>\n",
       "      <th>Ease of Online booking</th>\n",
       "      <th>On-board service</th>\n",
       "      <th>Leg room service</th>\n",
       "      <th>Baggage handling</th>\n",
       "      <th>Checkin service</th>\n",
       "      <th>Cleanliness</th>\n",
       "      <th>Online boarding</th>\n",
       "      <th>Departure Delay in Minutes</th>\n",
       "      <th>Arrival Delay in Minutes</th>\n",
       "    </tr>\n",
       "  </thead>\n",
       "  <tbody>\n",
       "    <tr>\n",
       "      <th>0</th>\n",
       "      <td>satisfied</td>\n",
       "      <td>Loyal Customer</td>\n",
       "      <td>65</td>\n",
       "      <td>Personal Travel</td>\n",
       "      <td>Eco</td>\n",
       "      <td>265</td>\n",
       "      <td>0</td>\n",
       "      <td>0</td>\n",
       "      <td>0</td>\n",
       "      <td>2</td>\n",
       "      <td>2</td>\n",
       "      <td>4</td>\n",
       "      <td>2</td>\n",
       "      <td>3</td>\n",
       "      <td>3</td>\n",
       "      <td>0</td>\n",
       "      <td>3</td>\n",
       "      <td>5</td>\n",
       "      <td>3</td>\n",
       "      <td>2</td>\n",
       "      <td>0</td>\n",
       "      <td>0.0</td>\n",
       "    </tr>\n",
       "    <tr>\n",
       "      <th>1</th>\n",
       "      <td>satisfied</td>\n",
       "      <td>Loyal Customer</td>\n",
       "      <td>47</td>\n",
       "      <td>Personal Travel</td>\n",
       "      <td>Business</td>\n",
       "      <td>2464</td>\n",
       "      <td>0</td>\n",
       "      <td>0</td>\n",
       "      <td>0</td>\n",
       "      <td>3</td>\n",
       "      <td>0</td>\n",
       "      <td>2</td>\n",
       "      <td>2</td>\n",
       "      <td>3</td>\n",
       "      <td>4</td>\n",
       "      <td>4</td>\n",
       "      <td>4</td>\n",
       "      <td>2</td>\n",
       "      <td>3</td>\n",
       "      <td>2</td>\n",
       "      <td>310</td>\n",
       "      <td>305.0</td>\n",
       "    </tr>\n",
       "    <tr>\n",
       "      <th>2</th>\n",
       "      <td>satisfied</td>\n",
       "      <td>Loyal Customer</td>\n",
       "      <td>15</td>\n",
       "      <td>Personal Travel</td>\n",
       "      <td>Eco</td>\n",
       "      <td>2138</td>\n",
       "      <td>0</td>\n",
       "      <td>0</td>\n",
       "      <td>0</td>\n",
       "      <td>3</td>\n",
       "      <td>2</td>\n",
       "      <td>0</td>\n",
       "      <td>2</td>\n",
       "      <td>2</td>\n",
       "      <td>3</td>\n",
       "      <td>3</td>\n",
       "      <td>4</td>\n",
       "      <td>4</td>\n",
       "      <td>4</td>\n",
       "      <td>2</td>\n",
       "      <td>0</td>\n",
       "      <td>0.0</td>\n",
       "    </tr>\n",
       "    <tr>\n",
       "      <th>3</th>\n",
       "      <td>satisfied</td>\n",
       "      <td>Loyal Customer</td>\n",
       "      <td>60</td>\n",
       "      <td>Personal Travel</td>\n",
       "      <td>Eco</td>\n",
       "      <td>623</td>\n",
       "      <td>0</td>\n",
       "      <td>0</td>\n",
       "      <td>0</td>\n",
       "      <td>3</td>\n",
       "      <td>3</td>\n",
       "      <td>4</td>\n",
       "      <td>3</td>\n",
       "      <td>1</td>\n",
       "      <td>1</td>\n",
       "      <td>0</td>\n",
       "      <td>1</td>\n",
       "      <td>4</td>\n",
       "      <td>1</td>\n",
       "      <td>3</td>\n",
       "      <td>0</td>\n",
       "      <td>0.0</td>\n",
       "    </tr>\n",
       "    <tr>\n",
       "      <th>4</th>\n",
       "      <td>satisfied</td>\n",
       "      <td>Loyal Customer</td>\n",
       "      <td>70</td>\n",
       "      <td>Personal Travel</td>\n",
       "      <td>Eco</td>\n",
       "      <td>354</td>\n",
       "      <td>0</td>\n",
       "      <td>0</td>\n",
       "      <td>0</td>\n",
       "      <td>3</td>\n",
       "      <td>4</td>\n",
       "      <td>3</td>\n",
       "      <td>4</td>\n",
       "      <td>2</td>\n",
       "      <td>2</td>\n",
       "      <td>0</td>\n",
       "      <td>2</td>\n",
       "      <td>4</td>\n",
       "      <td>2</td>\n",
       "      <td>5</td>\n",
       "      <td>0</td>\n",
       "      <td>0.0</td>\n",
       "    </tr>\n",
       "    <tr>\n",
       "      <th>5</th>\n",
       "      <td>satisfied</td>\n",
       "      <td>Loyal Customer</td>\n",
       "      <td>30</td>\n",
       "      <td>Personal Travel</td>\n",
       "      <td>Eco</td>\n",
       "      <td>1894</td>\n",
       "      <td>0</td>\n",
       "      <td>0</td>\n",
       "      <td>0</td>\n",
       "      <td>3</td>\n",
       "      <td>2</td>\n",
       "      <td>0</td>\n",
       "      <td>2</td>\n",
       "      <td>2</td>\n",
       "      <td>5</td>\n",
       "      <td>4</td>\n",
       "      <td>5</td>\n",
       "      <td>5</td>\n",
       "      <td>4</td>\n",
       "      <td>2</td>\n",
       "      <td>0</td>\n",
       "      <td>0.0</td>\n",
       "    </tr>\n",
       "    <tr>\n",
       "      <th>6</th>\n",
       "      <td>satisfied</td>\n",
       "      <td>Loyal Customer</td>\n",
       "      <td>66</td>\n",
       "      <td>Personal Travel</td>\n",
       "      <td>Eco</td>\n",
       "      <td>227</td>\n",
       "      <td>0</td>\n",
       "      <td>0</td>\n",
       "      <td>0</td>\n",
       "      <td>3</td>\n",
       "      <td>2</td>\n",
       "      <td>5</td>\n",
       "      <td>5</td>\n",
       "      <td>5</td>\n",
       "      <td>5</td>\n",
       "      <td>0</td>\n",
       "      <td>5</td>\n",
       "      <td>5</td>\n",
       "      <td>5</td>\n",
       "      <td>3</td>\n",
       "      <td>17</td>\n",
       "      <td>15.0</td>\n",
       "    </tr>\n",
       "    <tr>\n",
       "      <th>7</th>\n",
       "      <td>satisfied</td>\n",
       "      <td>Loyal Customer</td>\n",
       "      <td>10</td>\n",
       "      <td>Personal Travel</td>\n",
       "      <td>Eco</td>\n",
       "      <td>1812</td>\n",
       "      <td>0</td>\n",
       "      <td>0</td>\n",
       "      <td>0</td>\n",
       "      <td>3</td>\n",
       "      <td>2</td>\n",
       "      <td>0</td>\n",
       "      <td>2</td>\n",
       "      <td>2</td>\n",
       "      <td>3</td>\n",
       "      <td>3</td>\n",
       "      <td>4</td>\n",
       "      <td>5</td>\n",
       "      <td>4</td>\n",
       "      <td>2</td>\n",
       "      <td>0</td>\n",
       "      <td>0.0</td>\n",
       "    </tr>\n",
       "    <tr>\n",
       "      <th>8</th>\n",
       "      <td>satisfied</td>\n",
       "      <td>Loyal Customer</td>\n",
       "      <td>56</td>\n",
       "      <td>Personal Travel</td>\n",
       "      <td>Business</td>\n",
       "      <td>73</td>\n",
       "      <td>0</td>\n",
       "      <td>0</td>\n",
       "      <td>0</td>\n",
       "      <td>3</td>\n",
       "      <td>5</td>\n",
       "      <td>3</td>\n",
       "      <td>5</td>\n",
       "      <td>4</td>\n",
       "      <td>4</td>\n",
       "      <td>0</td>\n",
       "      <td>1</td>\n",
       "      <td>5</td>\n",
       "      <td>4</td>\n",
       "      <td>4</td>\n",
       "      <td>0</td>\n",
       "      <td>0.0</td>\n",
       "    </tr>\n",
       "    <tr>\n",
       "      <th>9</th>\n",
       "      <td>satisfied</td>\n",
       "      <td>Loyal Customer</td>\n",
       "      <td>22</td>\n",
       "      <td>Personal Travel</td>\n",
       "      <td>Eco</td>\n",
       "      <td>1556</td>\n",
       "      <td>0</td>\n",
       "      <td>0</td>\n",
       "      <td>0</td>\n",
       "      <td>3</td>\n",
       "      <td>2</td>\n",
       "      <td>0</td>\n",
       "      <td>2</td>\n",
       "      <td>2</td>\n",
       "      <td>2</td>\n",
       "      <td>4</td>\n",
       "      <td>5</td>\n",
       "      <td>3</td>\n",
       "      <td>4</td>\n",
       "      <td>2</td>\n",
       "      <td>30</td>\n",
       "      <td>26.0</td>\n",
       "    </tr>\n",
       "  </tbody>\n",
       "</table>\n",
       "</div>"
      ],
      "text/plain": [
       "  satisfaction   Customer Type  Age   Type of Travel     Class  \\\n",
       "0    satisfied  Loyal Customer   65  Personal Travel       Eco   \n",
       "1    satisfied  Loyal Customer   47  Personal Travel  Business   \n",
       "2    satisfied  Loyal Customer   15  Personal Travel       Eco   \n",
       "3    satisfied  Loyal Customer   60  Personal Travel       Eco   \n",
       "4    satisfied  Loyal Customer   70  Personal Travel       Eco   \n",
       "5    satisfied  Loyal Customer   30  Personal Travel       Eco   \n",
       "6    satisfied  Loyal Customer   66  Personal Travel       Eco   \n",
       "7    satisfied  Loyal Customer   10  Personal Travel       Eco   \n",
       "8    satisfied  Loyal Customer   56  Personal Travel  Business   \n",
       "9    satisfied  Loyal Customer   22  Personal Travel       Eco   \n",
       "\n",
       "   Flight Distance  Seat comfort  Departure/Arrival time convenient  \\\n",
       "0              265             0                                  0   \n",
       "1             2464             0                                  0   \n",
       "2             2138             0                                  0   \n",
       "3              623             0                                  0   \n",
       "4              354             0                                  0   \n",
       "5             1894             0                                  0   \n",
       "6              227             0                                  0   \n",
       "7             1812             0                                  0   \n",
       "8               73             0                                  0   \n",
       "9             1556             0                                  0   \n",
       "\n",
       "   Food and drink  Gate location  Inflight wifi service  \\\n",
       "0               0              2                      2   \n",
       "1               0              3                      0   \n",
       "2               0              3                      2   \n",
       "3               0              3                      3   \n",
       "4               0              3                      4   \n",
       "5               0              3                      2   \n",
       "6               0              3                      2   \n",
       "7               0              3                      2   \n",
       "8               0              3                      5   \n",
       "9               0              3                      2   \n",
       "\n",
       "   Inflight entertainment  Online support  Ease of Online booking  \\\n",
       "0                       4               2                       3   \n",
       "1                       2               2                       3   \n",
       "2                       0               2                       2   \n",
       "3                       4               3                       1   \n",
       "4                       3               4                       2   \n",
       "5                       0               2                       2   \n",
       "6                       5               5                       5   \n",
       "7                       0               2                       2   \n",
       "8                       3               5                       4   \n",
       "9                       0               2                       2   \n",
       "\n",
       "   On-board service  Leg room service  Baggage handling  Checkin service  \\\n",
       "0                 3                 0                 3                5   \n",
       "1                 4                 4                 4                2   \n",
       "2                 3                 3                 4                4   \n",
       "3                 1                 0                 1                4   \n",
       "4                 2                 0                 2                4   \n",
       "5                 5                 4                 5                5   \n",
       "6                 5                 0                 5                5   \n",
       "7                 3                 3                 4                5   \n",
       "8                 4                 0                 1                5   \n",
       "9                 2                 4                 5                3   \n",
       "\n",
       "   Cleanliness  Online boarding  Departure Delay in Minutes  \\\n",
       "0            3                2                           0   \n",
       "1            3                2                         310   \n",
       "2            4                2                           0   \n",
       "3            1                3                           0   \n",
       "4            2                5                           0   \n",
       "5            4                2                           0   \n",
       "6            5                3                          17   \n",
       "7            4                2                           0   \n",
       "8            4                4                           0   \n",
       "9            4                2                          30   \n",
       "\n",
       "   Arrival Delay in Minutes  \n",
       "0                       0.0  \n",
       "1                     305.0  \n",
       "2                       0.0  \n",
       "3                       0.0  \n",
       "4                       0.0  \n",
       "5                       0.0  \n",
       "6                      15.0  \n",
       "7                       0.0  \n",
       "8                       0.0  \n",
       "9                      26.0  "
      ]
     },
     "execution_count": 3,
     "metadata": {},
     "output_type": "execute_result"
    }
   ],
   "source": [
    "# Set to display all columns, otherwise some columns will not be displayed\n",
    "pd.set_option('display.max_columns', None)\n",
    "\n",
    "df_original.head(10)"
   ]
  },
  {
   "cell_type": "markdown",
   "metadata": {
    "id": "tooWlpMBHqoi"
   },
   "source": [
    "<details>\n",
    "  <summary><h4><strong>Hint 1</strong></h4></summary>\n",
    "\n",
    "Use the `head()` function.\n",
    "\n",
    "</details>"
   ]
  },
  {
   "cell_type": "markdown",
   "metadata": {
    "id": "l8_h8SKmX8yu"
   },
   "source": [
    "<details>\n",
    "  <summary><h4><strong>Hint 2</strong></h4></summary>\n",
    "\n",
    "If only five rows are output, it is because the function by default returns five rows. To change this, specify how many rows `(n = )` you want to output.\n",
    "\n",
    "</details>"
   ]
  },
  {
   "cell_type": "markdown",
   "metadata": {
    "id": "ec269f85-6622-4f82-bdcd-1874224a4052",
    "tags": []
   },
   "source": [
    "## Step 2: Data exploration, data cleaning, and model preparation\n",
    "\n",
    "### Prepare the data\n",
    "\n",
    "After loading the dataset, prepare the data to be suitable for decision tree classifiers. This includes: \n",
    "\n",
    "*   Exploring the data\n",
    "*   Checking for missing values\n",
    "*   Encoding the data\n",
    "*   Renaming a column\n",
    "*   Creating the training and testing data"
   ]
  },
  {
   "cell_type": "markdown",
   "metadata": {
    "id": "d7ccd368"
   },
   "source": [
    "### Explore the data\n",
    "\n",
    "Check the data type of each column. Note that decision trees expect numeric data. "
   ]
  },
  {
   "cell_type": "code",
   "execution_count": 4,
   "metadata": {
    "id": "c84ecc35"
   },
   "outputs": [
    {
     "name": "stdout",
     "output_type": "stream",
     "text": [
      "<class 'pandas.core.frame.DataFrame'>\n",
      "RangeIndex: 129880 entries, 0 to 129879\n",
      "Data columns (total 22 columns):\n",
      " #   Column                             Non-Null Count   Dtype  \n",
      "---  ------                             --------------   -----  \n",
      " 0   satisfaction                       129880 non-null  object \n",
      " 1   Customer Type                      129880 non-null  object \n",
      " 2   Age                                129880 non-null  int64  \n",
      " 3   Type of Travel                     129880 non-null  object \n",
      " 4   Class                              129880 non-null  object \n",
      " 5   Flight Distance                    129880 non-null  int64  \n",
      " 6   Seat comfort                       129880 non-null  int64  \n",
      " 7   Departure/Arrival time convenient  129880 non-null  int64  \n",
      " 8   Food and drink                     129880 non-null  int64  \n",
      " 9   Gate location                      129880 non-null  int64  \n",
      " 10  Inflight wifi service              129880 non-null  int64  \n",
      " 11  Inflight entertainment             129880 non-null  int64  \n",
      " 12  Online support                     129880 non-null  int64  \n",
      " 13  Ease of Online booking             129880 non-null  int64  \n",
      " 14  On-board service                   129880 non-null  int64  \n",
      " 15  Leg room service                   129880 non-null  int64  \n",
      " 16  Baggage handling                   129880 non-null  int64  \n",
      " 17  Checkin service                    129880 non-null  int64  \n",
      " 18  Cleanliness                        129880 non-null  int64  \n",
      " 19  Online boarding                    129880 non-null  int64  \n",
      " 20  Departure Delay in Minutes         129880 non-null  int64  \n",
      " 21  Arrival Delay in Minutes           129487 non-null  float64\n",
      "dtypes: float64(1), int64(17), object(4)\n",
      "memory usage: 21.8+ MB\n"
     ]
    }
   ],
   "source": [
    "df_original.info()"
   ]
  },
  {
   "cell_type": "markdown",
   "metadata": {
    "id": "338fa42f"
   },
   "source": [
    "<details>\n",
    "  <summary><h4><strong>Hint 1</strong></h4></summary>\n",
    "\n",
    "Use the `dtypes` attribute on the DataFrame.\n",
    "</details>"
   ]
  },
  {
   "cell_type": "markdown",
   "metadata": {
    "id": "768367ea"
   },
   "source": [
    "### Output unique values \n",
    "\n",
    "The `Class` column is ordinal (meaning there is an inherent order that is significant). For example, airlines typically charge more for 'Business' than 'Eco Plus' and 'Eco'. Output the unique values in the `Class` column. "
   ]
  },
  {
   "cell_type": "code",
   "execution_count": 5,
   "metadata": {
    "id": "52205295"
   },
   "outputs": [
    {
     "data": {
      "text/plain": [
       "array(['Eco', 'Business', 'Eco Plus'], dtype=object)"
      ]
     },
     "execution_count": 5,
     "metadata": {},
     "output_type": "execute_result"
    }
   ],
   "source": [
    "# Find unique value(s) in `Class`\n",
    "\n",
    "df_original['Class'].unique()"
   ]
  },
  {
   "cell_type": "code",
   "execution_count": 6,
   "metadata": {},
   "outputs": [
    {
     "data": {
      "text/plain": [
       "satisfaction                            2\n",
       "Customer Type                           2\n",
       "Age                                    75\n",
       "Type of Travel                          2\n",
       "Class                                   3\n",
       "Flight Distance                      5398\n",
       "Seat comfort                            6\n",
       "Departure/Arrival time convenient       6\n",
       "Food and drink                          6\n",
       "Gate location                           6\n",
       "Inflight wifi service                   6\n",
       "Inflight entertainment                  6\n",
       "Online support                          6\n",
       "Ease of Online booking                  6\n",
       "On-board service                        6\n",
       "Leg room service                        6\n",
       "Baggage handling                        5\n",
       "Checkin service                         6\n",
       "Cleanliness                             6\n",
       "Online boarding                         6\n",
       "Departure Delay in Minutes            466\n",
       "Arrival Delay in Minutes              472\n",
       "dtype: int64"
      ]
     },
     "execution_count": 6,
     "metadata": {},
     "output_type": "execute_result"
    }
   ],
   "source": [
    "# Find number of unique value(s) in each column\n",
    "\n",
    "df_original.nunique()"
   ]
  },
  {
   "cell_type": "code",
   "execution_count": 7,
   "metadata": {},
   "outputs": [
    {
     "name": "stdout",
     "output_type": "stream",
     "text": [
      "satisfaction\n",
      "['dissatisfied', 'satisfied']\n",
      "\n",
      "Customer Type\n",
      "['Loyal Customer', 'disloyal Customer']\n",
      "\n",
      "Age\n",
      "[7, 8, 9, 10, 11, 12, 13, 14, 15, 16, 17, 18, 19, 20, 21, 22, 23, 24, 25, 26, 27, 28, 29, 30, 31, 32, 33, 34, 35, 36, 37, 38, 39, 40, 41, 42, 43, 44, 45, 46, 47, 48, 49, 50, 51, 52, 53, 54, 55, 56, 57, 58, 59, 60, 61, 62, 63, 64, 65, 66, 67, 68, 69, 70, 71, 72, 73, 74, 75, 76, 77, 78, 79, 80, 85]\n",
      "\n",
      "Type of Travel\n",
      "['Business travel', 'Personal Travel']\n",
      "\n",
      "Class\n",
      "['Business', 'Eco', 'Eco Plus']\n",
      "\n",
      "Flight Distance\n",
      "[50, 51, 52, 53, 54, 55, 56, 57, 58, 59, 60, 61, 62, 63, 64, 65, 66, 67, 68, 69, 70, 71, 72, 73, 74, 75, 76, 77, 78, 79, 80, 81, 82, 83, 84, 85, 86, 87, 88, 89, 90, 91, 92, 93, 94, 95, 96, 97, 98, 99, 100, 101, 102, 103, 104, 105, 106, 107, 108, 109, 110, 111, 112, 113, 114, 115, 116, 117, 118, 119, 120, 121, 122, 123, 124, 125, 126, 127, 128, 129, 130, 131, 132, 133, 134, 135, 136, 137, 138, 139, 140, 141, 142, 143, 144, 145, 146, 147, 148, 153, 163, 168, 180, 186, 192, 194, 200, 201, 202, 203, 204, 205, 206, 207, 208, 209, 210, 211, 212, 213, 214, 215, 216, 217, 218, 219, 220, 221, 222, 223, 224, 225, 226, 227, 228, 229, 230, 231, 232, 233, 234, 235, 236, 237, 238, 239, 240, 241, 242, 243, 244, 245, 246, 247, 248, 249, 250, 251, 252, 253, 254, 255, 256, 257, 258, 259, 260, 261, 262, 263, 264, 265, 266, 267, 268, 269, 270, 271, 272, 273, 274, 275, 276, 277, 278, 279, 280, 281, 282, 283, 284, 285, 286, 287, 288, 289, 290, 291, 292, 293, 294, 295, 296, 297, 298, 299, 300, 301, 302, 303, 304, 305, 306, 307, 308, 309, 310, 311, 312, 313, 314, 315, 316, 317, 318, 319, 320, 321, 322, 323, 324, 325, 326, 327, 328, 329, 330, 331, 332, 333, 334, 335, 336, 337, 338, 339, 340, 341, 342, 343, 344, 345, 346, 347, 348, 349, 350, 351, 352, 353, 354, 355, 356, 357, 358, 359, 360, 361, 362, 363, 364, 365, 366, 367, 368, 369, 370, 371, 372, 373, 374, 375, 376, 377, 378, 379, 380, 381, 382, 383, 384, 385, 386, 387, 388, 389, 390, 391, 392, 393, 394, 395, 396, 397, 398, 399, 400, 401, 402, 403, 404, 405, 406, 407, 408, 409, 410, 411, 412, 413, 414, 415, 416, 417, 418, 419, 420, 421, 422, 423, 424, 425, 426, 427, 428, 429, 430, 431, 432, 433, 434, 435, 436, 437, 438, 439, 440, 441, 442, 443, 444, 445, 446, 447, 448, 449, 450, 451, 452, 453, 454, 455, 456, 457, 458, 459, 460, 461, 462, 463, 464, 465, 466, 467, 468, 469, 470, 471, 472, 473, 474, 475, 476, 477, 478, 479, 480, 481, 482, 483, 484, 485, 486, 487, 488, 489, 490, 491, 492, 493, 494, 495, 496, 497, 498, 499, 500, 501, 502, 503, 504, 505, 506, 507, 508, 509, 510, 511, 512, 513, 514, 515, 516, 517, 518, 519, 520, 521, 522, 523, 524, 525, 526, 527, 528, 529, 530, 531, 532, 533, 534, 535, 536, 537, 538, 539, 540, 541, 542, 543, 544, 545, 546, 547, 548, 549, 550, 551, 552, 553, 554, 555, 556, 557, 558, 559, 560, 561, 562, 563, 564, 565, 566, 567, 568, 569, 570, 571, 572, 573, 574, 575, 576, 577, 578, 579, 580, 581, 582, 583, 584, 585, 586, 587, 588, 589, 590, 591, 592, 593, 594, 595, 596, 597, 598, 599, 600, 601, 602, 603, 604, 605, 606, 607, 608, 609, 610, 611, 612, 613, 614, 615, 616, 617, 618, 619, 620, 621, 622, 623, 624, 625, 626, 627, 628, 629, 630, 631, 632, 633, 634, 635, 636, 637, 638, 639, 640, 641, 642, 643, 644, 645, 646, 647, 648, 649, 650, 651, 652, 653, 654, 655, 656, 657, 658, 659, 660, 661, 662, 663, 664, 665, 666, 667, 668, 669, 670, 671, 672, 673, 674, 675, 676, 677, 678, 679, 680, 681, 682, 683, 684, 685, 686, 687, 688, 689, 690, 691, 692, 693, 694, 695, 696, 697, 698, 699, 700, 701, 702, 703, 704, 705, 706, 707, 708, 709, 710, 711, 712, 713, 714, 715, 716, 717, 718, 719, 720, 721, 722, 723, 724, 725, 726, 727, 728, 729, 730, 731, 732, 733, 734, 735, 736, 737, 738, 739, 740, 741, 742, 743, 744, 745, 746, 747, 748, 749, 750, 751, 752, 753, 754, 755, 756, 757, 758, 759, 760, 761, 762, 763, 764, 765, 766, 767, 768, 769, 770, 771, 772, 773, 774, 775, 776, 777, 778, 779, 780, 781, 782, 783, 784, 785, 786, 787, 788, 789, 790, 791, 792, 793, 794, 795, 796, 797, 798, 799, 800, 801, 802, 803, 804, 805, 806, 807, 808, 809, 810, 811, 812, 813, 814, 815, 816, 817, 818, 819, 820, 821, 822, 823, 824, 825, 826, 827, 828, 829, 830, 831, 832, 833, 834, 835, 836, 837, 838, 839, 840, 841, 842, 843, 844, 845, 846, 847, 848, 849, 850, 851, 852, 853, 854, 855, 856, 857, 858, 859, 860, 861, 862, 863, 864, 865, 866, 867, 868, 869, 870, 871, 872, 873, 874, 875, 876, 877, 878, 879, 880, 881, 882, 883, 884, 885, 886, 887, 888, 889, 890, 891, 892, 893, 894, 895, 896, 897, 898, 899, 900, 901, 902, 903, 904, 905, 906, 907, 908, 909, 910, 911, 912, 913, 914, 915, 916, 917, 918, 919, 920, 921, 922, 923, 924, 925, 926, 927, 928, 929, 930, 931, 932, 933, 934, 935, 936, 937, 938, 939, 940, 941, 942, 943, 944, 945, 946, 947, 948, 949, 950, 951, 952, 953, 954, 955, 956, 957, 958, 959, 960, 961, 962, 963, 964, 965, 966, 967, 968, 969, 970, 971, 972, 973, 974, 975, 976, 977, 978, 979, 980, 981, 982, 983, 984, 985, 986, 987, 988, 989, 990, 991, 992, 993, 994, 995, 996, 997, 998, 999, 1000, 1001, 1002, 1003, 1004, 1005, 1006, 1007, 1008, 1009, 1010, 1011, 1012, 1013, 1014, 1015, 1016, 1017, 1018, 1019, 1020, 1021, 1022, 1023, 1024, 1025, 1026, 1027, 1028, 1029, 1030, 1031, 1032, 1033, 1034, 1035, 1036, 1037, 1038, 1039, 1040, 1041, 1042, 1043, 1044, 1045, 1046, 1047, 1048, 1049, 1050, 1051, 1052, 1053, 1054, 1055, 1056, 1057, 1058, 1059, 1060, 1061, 1062, 1063, 1064, 1065, 1066, 1067, 1068, 1069, 1070, 1071, 1072, 1073, 1074, 1075, 1076, 1077, 1078, 1079, 1080, 1081, 1082, 1083, 1084, 1085, 1086, 1087, 1088, 1089, 1090, 1091, 1092, 1093, 1094, 1095, 1096, 1097, 1098, 1099, 1100, 1101, 1102, 1103, 1104, 1105, 1106, 1107, 1108, 1109, 1110, 1111, 1112, 1113, 1114, 1115, 1116, 1117, 1118, 1119, 1120, 1121, 1122, 1123, 1124, 1125, 1126, 1127, 1128, 1129, 1130, 1131, 1132, 1133, 1134, 1135, 1136, 1137, 1138, 1139, 1140, 1141, 1142, 1143, 1144, 1145, 1146, 1147, 1148, 1149, 1150, 1151, 1152, 1153, 1154, 1155, 1156, 1157, 1158, 1159, 1160, 1161, 1162, 1163, 1164, 1165, 1166, 1167, 1168, 1169, 1170, 1171, 1172, 1173, 1174, 1175, 1176, 1177, 1178, 1179, 1180, 1181, 1182, 1183, 1184, 1185, 1186, 1187, 1188, 1189, 1190, 1191, 1192, 1193, 1194, 1195, 1196, 1197, 1198, 1199, 1200, 1201, 1202, 1203, 1204, 1205, 1206, 1207, 1208, 1209, 1210, 1211, 1212, 1213, 1214, 1215, 1216, 1217, 1218, 1219, 1220, 1221, 1222, 1223, 1224, 1225, 1226, 1227, 1228, 1229, 1230, 1231, 1232, 1233, 1234, 1235, 1236, 1237, 1238, 1239, 1240, 1241, 1242, 1243, 1244, 1245, 1246, 1247, 1248, 1249, 1250, 1251, 1252, 1253, 1254, 1255, 1256, 1257, 1258, 1259, 1260, 1261, 1262, 1263, 1264, 1265, 1266, 1267, 1268, 1269, 1270, 1271, 1272, 1273, 1274, 1275, 1276, 1277, 1278, 1279, 1280, 1281, 1282, 1283, 1284, 1285, 1286, 1287, 1288, 1289, 1290, 1291, 1292, 1293, 1294, 1295, 1296, 1297, 1298, 1299, 1300, 1301, 1302, 1303, 1304, 1305, 1306, 1307, 1308, 1309, 1310, 1311, 1312, 1313, 1314, 1315, 1316, 1317, 1318, 1319, 1320, 1321, 1322, 1323, 1324, 1325, 1326, 1327, 1328, 1329, 1330, 1331, 1332, 1333, 1334, 1335, 1336, 1337, 1338, 1339, 1340, 1341, 1342, 1343, 1344, 1345, 1346, 1347, 1348, 1349, 1350, 1351, 1352, 1353, 1354, 1355, 1356, 1357, 1358, 1359, 1360, 1361, 1362, 1363, 1364, 1365, 1366, 1367, 1368, 1369, 1370, 1371, 1372, 1373, 1374, 1375, 1376, 1377, 1378, 1379, 1380, 1381, 1382, 1383, 1384, 1385, 1386, 1387, 1388, 1389, 1390, 1391, 1392, 1393, 1394, 1395, 1396, 1397, 1398, 1399, 1400, 1401, 1402, 1403, 1404, 1405, 1406, 1407, 1408, 1409, 1410, 1411, 1412, 1413, 1414, 1415, 1416, 1417, 1418, 1419, 1420, 1421, 1422, 1423, 1424, 1425, 1426, 1427, 1428, 1429, 1430, 1431, 1432, 1433, 1434, 1435, 1436, 1437, 1438, 1439, 1440, 1441, 1442, 1443, 1444, 1445, 1446, 1447, 1448, 1449, 1450, 1451, 1452, 1453, 1454, 1455, 1456, 1457, 1458, 1459, 1460, 1461, 1462, 1463, 1464, 1465, 1466, 1467, 1468, 1469, 1470, 1471, 1472, 1473, 1474, 1475, 1476, 1477, 1478, 1479, 1480, 1481, 1482, 1483, 1484, 1485, 1486, 1487, 1488, 1489, 1490, 1491, 1492, 1493, 1494, 1495, 1496, 1497, 1498, 1499, 1500, 1501, 1502, 1503, 1504, 1505, 1506, 1507, 1508, 1509, 1510, 1511, 1512, 1513, 1514, 1515, 1516, 1517, 1518, 1519, 1520, 1521, 1522, 1523, 1524, 1525, 1526, 1527, 1528, 1529, 1530, 1531, 1532, 1533, 1534, 1535, 1536, 1537, 1538, 1539, 1540, 1541, 1542, 1543, 1544, 1545, 1546, 1547, 1548, 1549, 1550, 1551, 1552, 1553, 1554, 1555, 1556, 1557, 1558, 1559, 1560, 1561, 1562, 1563, 1564, 1565, 1566, 1567, 1568, 1569, 1570, 1571, 1572, 1573, 1574, 1575, 1576, 1577, 1578, 1579, 1580, 1581, 1582, 1583, 1584, 1585, 1586, 1587, 1588, 1589, 1590, 1591, 1592, 1593, 1594, 1595, 1596, 1597, 1598, 1599, 1600, 1601, 1602, 1603, 1604, 1605, 1606, 1607, 1608, 1609, 1610, 1611, 1612, 1613, 1614, 1615, 1616, 1617, 1618, 1619, 1620, 1621, 1622, 1623, 1624, 1625, 1626, 1627, 1628, 1629, 1630, 1631, 1632, 1633, 1634, 1635, 1636, 1637, 1638, 1639, 1640, 1641, 1642, 1643, 1644, 1645, 1646, 1647, 1648, 1649, 1650, 1651, 1652, 1653, 1654, 1655, 1656, 1657, 1658, 1659, 1660, 1661, 1662, 1663, 1664, 1665, 1666, 1667, 1668, 1669, 1670, 1671, 1672, 1673, 1674, 1675, 1676, 1677, 1678, 1679, 1680, 1681, 1682, 1683, 1684, 1685, 1686, 1687, 1688, 1689, 1690, 1691, 1692, 1693, 1694, 1695, 1696, 1697, 1698, 1699, 1700, 1701, 1702, 1703, 1704, 1705, 1706, 1707, 1708, 1709, 1710, 1711, 1712, 1713, 1714, 1715, 1716, 1717, 1718, 1719, 1720, 1721, 1722, 1723, 1724, 1725, 1726, 1727, 1728, 1729, 1730, 1731, 1732, 1733, 1734, 1735, 1736, 1737, 1738, 1739, 1740, 1741, 1742, 1743, 1744, 1745, 1746, 1747, 1748, 1749, 1750, 1751, 1752, 1753, 1754, 1755, 1756, 1757, 1758, 1759, 1760, 1761, 1762, 1763, 1764, 1765, 1766, 1767, 1768, 1769, 1770, 1771, 1772, 1773, 1774, 1775, 1776, 1777, 1778, 1779, 1780, 1781, 1782, 1783, 1784, 1785, 1786, 1787, 1788, 1789, 1790, 1791, 1792, 1793, 1794, 1795, 1796, 1797, 1798, 1799, 1800, 1801, 1802, 1803, 1804, 1805, 1806, 1807, 1808, 1809, 1810, 1811, 1812, 1813, 1814, 1815, 1816, 1817, 1818, 1819, 1820, 1821, 1822, 1823, 1824, 1825, 1826, 1827, 1828, 1829, 1830, 1831, 1832, 1833, 1834, 1835, 1836, 1837, 1838, 1839, 1840, 1841, 1842, 1843, 1844, 1845, 1846, 1847, 1848, 1849, 1850, 1851, 1852, 1853, 1854, 1855, 1856, 1857, 1858, 1859, 1860, 1861, 1862, 1863, 1864, 1865, 1866, 1867, 1868, 1869, 1870, 1871, 1872, 1873, 1874, 1875, 1876, 1877, 1878, 1879, 1880, 1881, 1882, 1883, 1884, 1885, 1886, 1887, 1888, 1889, 1890, 1891, 1892, 1893, 1894, 1895, 1896, 1897, 1898, 1899, 1900, 1901, 1902, 1903, 1904, 1905, 1906, 1907, 1908, 1909, 1910, 1911, 1912, 1913, 1914, 1915, 1916, 1917, 1918, 1919, 1920, 1921, 1922, 1923, 1924, 1925, 1926, 1927, 1928, 1929, 1930, 1931, 1932, 1933, 1934, 1935, 1936, 1937, 1938, 1939, 1940, 1941, 1942, 1943, 1944, 1945, 1946, 1947, 1948, 1949, 1950, 1951, 1952, 1953, 1954, 1955, 1956, 1957, 1958, 1959, 1960, 1961, 1962, 1963, 1964, 1965, 1966, 1967, 1968, 1969, 1970, 1971, 1972, 1973, 1974, 1975, 1976, 1977, 1978, 1979, 1980, 1981, 1982, 1983, 1984, 1985, 1986, 1987, 1988, 1989, 1990, 1991, 1992, 1993, 1994, 1995, 1996, 1997, 1998, 1999, 2000, 2001, 2002, 2003, 2004, 2005, 2006, 2007, 2008, 2009, 2010, 2011, 2012, 2013, 2014, 2015, 2016, 2017, 2018, 2019, 2020, 2021, 2022, 2023, 2024, 2025, 2026, 2027, 2028, 2029, 2030, 2031, 2032, 2033, 2034, 2035, 2036, 2037, 2038, 2039, 2040, 2041, 2042, 2043, 2044, 2045, 2046, 2047, 2048, 2049, 2050, 2051, 2052, 2053, 2054, 2055, 2056, 2057, 2058, 2059, 2060, 2061, 2062, 2063, 2064, 2065, 2066, 2067, 2068, 2069, 2070, 2071, 2072, 2073, 2074, 2075, 2076, 2077, 2078, 2079, 2080, 2081, 2082, 2083, 2084, 2085, 2086, 2087, 2088, 2089, 2090, 2091, 2092, 2093, 2094, 2095, 2096, 2097, 2098, 2099, 2100, 2101, 2102, 2103, 2104, 2105, 2106, 2107, 2108, 2109, 2110, 2111, 2112, 2113, 2114, 2115, 2116, 2117, 2118, 2119, 2120, 2121, 2122, 2123, 2124, 2125, 2126, 2127, 2128, 2129, 2130, 2131, 2132, 2133, 2134, 2135, 2136, 2137, 2138, 2139, 2140, 2141, 2142, 2143, 2144, 2145, 2146, 2147, 2148, 2149, 2150, 2151, 2152, 2153, 2154, 2155, 2156, 2157, 2158, 2159, 2160, 2161, 2162, 2163, 2164, 2165, 2166, 2167, 2168, 2169, 2170, 2171, 2172, 2173, 2174, 2175, 2176, 2177, 2178, 2179, 2180, 2181, 2182, 2183, 2184, 2185, 2186, 2187, 2188, 2189, 2190, 2191, 2192, 2193, 2194, 2195, 2196, 2197, 2198, 2199, 2200, 2201, 2202, 2203, 2204, 2205, 2206, 2207, 2208, 2209, 2210, 2211, 2212, 2213, 2214, 2215, 2216, 2217, 2218, 2219, 2220, 2221, 2222, 2223, 2224, 2225, 2226, 2227, 2228, 2229, 2230, 2231, 2232, 2233, 2234, 2235, 2236, 2237, 2238, 2239, 2240, 2241, 2242, 2243, 2244, 2245, 2246, 2247, 2248, 2249, 2250, 2251, 2252, 2253, 2254, 2255, 2256, 2257, 2258, 2259, 2260, 2261, 2262, 2263, 2264, 2265, 2266, 2267, 2268, 2269, 2270, 2271, 2272, 2273, 2274, 2275, 2276, 2277, 2278, 2279, 2280, 2281, 2282, 2283, 2284, 2285, 2286, 2287, 2288, 2289, 2290, 2291, 2292, 2293, 2294, 2295, 2296, 2297, 2298, 2299, 2300, 2301, 2302, 2303, 2304, 2305, 2306, 2307, 2308, 2309, 2310, 2311, 2312, 2313, 2314, 2315, 2316, 2317, 2318, 2319, 2320, 2321, 2322, 2323, 2324, 2325, 2326, 2327, 2328, 2329, 2330, 2331, 2332, 2333, 2334, 2335, 2336, 2337, 2338, 2339, 2340, 2341, 2342, 2343, 2344, 2345, 2346, 2347, 2348, 2349, 2350, 2351, 2352, 2353, 2354, 2355, 2356, 2357, 2358, 2359, 2360, 2361, 2362, 2363, 2364, 2365, 2366, 2367, 2368, 2369, 2370, 2371, 2372, 2373, 2374, 2375, 2376, 2377, 2378, 2379, 2380, 2381, 2382, 2383, 2384, 2385, 2386, 2387, 2388, 2389, 2390, 2391, 2392, 2393, 2394, 2395, 2396, 2397, 2398, 2399, 2400, 2401, 2402, 2403, 2404, 2405, 2406, 2407, 2408, 2409, 2410, 2411, 2412, 2413, 2414, 2415, 2416, 2417, 2418, 2419, 2420, 2421, 2422, 2423, 2424, 2425, 2426, 2427, 2428, 2429, 2430, 2431, 2432, 2433, 2434, 2435, 2436, 2437, 2438, 2439, 2440, 2441, 2442, 2443, 2444, 2445, 2446, 2447, 2448, 2449, 2450, 2451, 2452, 2453, 2454, 2455, 2456, 2457, 2458, 2459, 2460, 2461, 2462, 2463, 2464, 2465, 2466, 2467, 2468, 2469, 2470, 2471, 2472, 2473, 2474, 2475, 2476, 2477, 2478, 2479, 2480, 2481, 2482, 2483, 2484, 2485, 2486, 2487, 2488, 2489, 2490, 2491, 2492, 2493, 2494, 2495, 2496, 2497, 2498, 2499, 2500, 2501, 2502, 2503, 2504, 2505, 2506, 2507, 2508, 2509, 2510, 2511, 2512, 2513, 2514, 2515, 2516, 2517, 2518, 2519, 2520, 2521, 2522, 2523, 2524, 2525, 2526, 2527, 2528, 2529, 2530, 2531, 2532, 2533, 2534, 2535, 2536, 2537, 2538, 2539, 2540, 2541, 2542, 2543, 2544, 2545, 2546, 2547, 2548, 2549, 2550, 2551, 2552, 2553, 2554, 2555, 2556, 2557, 2558, 2559, 2560, 2561, 2562, 2563, 2564, 2565, 2566, 2567, 2568, 2569, 2570, 2571, 2572, 2573, 2574, 2575, 2576, 2577, 2578, 2579, 2580, 2581, 2582, 2583, 2584, 2585, 2586, 2587, 2588, 2589, 2590, 2591, 2592, 2593, 2594, 2595, 2596, 2597, 2598, 2599, 2600, 2601, 2602, 2603, 2604, 2605, 2606, 2607, 2608, 2609, 2610, 2611, 2612, 2613, 2614, 2615, 2616, 2617, 2618, 2619, 2620, 2621, 2622, 2623, 2624, 2625, 2626, 2627, 2628, 2629, 2630, 2631, 2632, 2633, 2634, 2635, 2636, 2637, 2638, 2639, 2640, 2641, 2642, 2643, 2644, 2645, 2646, 2647, 2648, 2649, 2650, 2651, 2652, 2653, 2654, 2655, 2656, 2657, 2658, 2659, 2660, 2661, 2662, 2663, 2664, 2665, 2666, 2667, 2668, 2669, 2670, 2671, 2672, 2673, 2674, 2675, 2676, 2677, 2678, 2679, 2680, 2681, 2682, 2683, 2684, 2685, 2686, 2687, 2688, 2689, 2690, 2691, 2692, 2693, 2694, 2695, 2696, 2697, 2698, 2699, 2700, 2701, 2702, 2703, 2704, 2705, 2706, 2707, 2708, 2709, 2710, 2711, 2712, 2713, 2714, 2715, 2716, 2717, 2718, 2719, 2720, 2721, 2722, 2723, 2724, 2725, 2726, 2727, 2728, 2729, 2730, 2731, 2732, 2733, 2734, 2735, 2736, 2737, 2738, 2739, 2740, 2741, 2742, 2743, 2744, 2745, 2746, 2747, 2748, 2749, 2750, 2751, 2752, 2753, 2754, 2755, 2756, 2757, 2758, 2759, 2760, 2761, 2762, 2763, 2764, 2765, 2766, 2767, 2768, 2769, 2770, 2771, 2772, 2773, 2774, 2775, 2776, 2777, 2778, 2779, 2780, 2781, 2782, 2783, 2784, 2785, 2786, 2787, 2788, 2789, 2790, 2791, 2792, 2793, 2794, 2795, 2796, 2797, 2798, 2799, 2800, 2801, 2802, 2803, 2804, 2805, 2806, 2807, 2808, 2809, 2810, 2811, 2812, 2813, 2814, 2815, 2816, 2817, 2818, 2819, 2820, 2821, 2822, 2823, 2824, 2825, 2826, 2827, 2828, 2829, 2830, 2831, 2832, 2833, 2834, 2835, 2836, 2837, 2838, 2839, 2840, 2841, 2842, 2843, 2844, 2845, 2846, 2847, 2848, 2849, 2850, 2851, 2852, 2853, 2854, 2855, 2856, 2857, 2858, 2859, 2860, 2861, 2862, 2863, 2864, 2865, 2866, 2867, 2868, 2869, 2870, 2871, 2872, 2873, 2874, 2875, 2876, 2877, 2878, 2879, 2880, 2881, 2882, 2883, 2884, 2885, 2886, 2887, 2888, 2889, 2890, 2891, 2892, 2893, 2894, 2895, 2896, 2897, 2898, 2899, 2900, 2901, 2902, 2903, 2904, 2905, 2906, 2907, 2908, 2909, 2910, 2911, 2912, 2913, 2914, 2915, 2916, 2917, 2918, 2919, 2920, 2921, 2922, 2923, 2924, 2925, 2926, 2927, 2928, 2929, 2930, 2931, 2932, 2933, 2934, 2935, 2936, 2937, 2938, 2939, 2940, 2941, 2942, 2943, 2944, 2945, 2946, 2947, 2948, 2949, 2950, 2951, 2952, 2953, 2954, 2955, 2956, 2957, 2958, 2959, 2960, 2961, 2962, 2963, 2964, 2965, 2966, 2967, 2968, 2969, 2970, 2971, 2972, 2973, 2974, 2975, 2976, 2977, 2978, 2979, 2980, 2981, 2982, 2983, 2984, 2985, 2986, 2987, 2988, 2989, 2990, 2991, 2992, 2993, 2994, 2995, 2996, 2997, 2998, 2999, 3000, 3001, 3002, 3003, 3004, 3005, 3006, 3007, 3008, 3009, 3010, 3011, 3012, 3013, 3014, 3015, 3016, 3017, 3018, 3019, 3020, 3021, 3022, 3023, 3024, 3025, 3026, 3027, 3028, 3029, 3030, 3031, 3032, 3033, 3034, 3035, 3036, 3037, 3038, 3039, 3040, 3041, 3042, 3043, 3044, 3045, 3046, 3047, 3048, 3049, 3050, 3051, 3052, 3053, 3054, 3055, 3056, 3057, 3058, 3059, 3060, 3061, 3062, 3063, 3064, 3065, 3066, 3067, 3068, 3069, 3070, 3071, 3072, 3073, 3074, 3075, 3076, 3077, 3078, 3079, 3080, 3081, 3082, 3083, 3084, 3085, 3086, 3087, 3088, 3089, 3090, 3091, 3092, 3093, 3094, 3095, 3096, 3097, 3098, 3099, 3100, 3101, 3102, 3103, 3104, 3105, 3106, 3107, 3108, 3109, 3110, 3111, 3112, 3113, 3114, 3115, 3116, 3117, 3118, 3119, 3120, 3121, 3122, 3123, 3124, 3125, 3126, 3127, 3128, 3129, 3130, 3131, 3132, 3133, 3134, 3135, 3136, 3137, 3138, 3139, 3140, 3141, 3142, 3143, 3144, 3145, 3146, 3147, 3148, 3149, 3150, 3151, 3152, 3153, 3154, 3155, 3156, 3157, 3158, 3159, 3160, 3161, 3162, 3163, 3164, 3165, 3166, 3167, 3168, 3169, 3170, 3171, 3172, 3173, 3174, 3175, 3176, 3177, 3178, 3179, 3180, 3181, 3182, 3183, 3184, 3185, 3186, 3187, 3188, 3189, 3190, 3191, 3192, 3193, 3194, 3195, 3196, 3197, 3198, 3199, 3200, 3201, 3202, 3203, 3204, 3205, 3206, 3207, 3208, 3209, 3210, 3211, 3212, 3213, 3214, 3215, 3216, 3217, 3218, 3219, 3220, 3221, 3222, 3223, 3224, 3225, 3226, 3227, 3228, 3229, 3230, 3231, 3232, 3233, 3234, 3235, 3236, 3237, 3238, 3239, 3240, 3241, 3242, 3243, 3244, 3245, 3246, 3247, 3248, 3249, 3250, 3251, 3252, 3253, 3254, 3255, 3256, 3257, 3258, 3259, 3260, 3261, 3262, 3263, 3264, 3265, 3266, 3267, 3268, 3269, 3270, 3271, 3272, 3273, 3274, 3275, 3276, 3277, 3278, 3279, 3280, 3281, 3282, 3283, 3284, 3285, 3286, 3287, 3288, 3289, 3290, 3291, 3292, 3293, 3294, 3295, 3296, 3297, 3298, 3299, 3300, 3301, 3302, 3303, 3304, 3305, 3306, 3307, 3308, 3309, 3310, 3311, 3312, 3313, 3314, 3315, 3316, 3317, 3318, 3319, 3320, 3321, 3322, 3323, 3324, 3325, 3326, 3327, 3328, 3329, 3330, 3331, 3332, 3333, 3334, 3335, 3336, 3337, 3338, 3339, 3340, 3341, 3342, 3343, 3344, 3345, 3346, 3347, 3348, 3349, 3350, 3351, 3352, 3353, 3354, 3355, 3356, 3357, 3358, 3359, 3360, 3361, 3362, 3363, 3364, 3365, 3366, 3367, 3368, 3369, 3370, 3371, 3372, 3373, 3374, 3375, 3376, 3377, 3378, 3379, 3380, 3381, 3382, 3383, 3384, 3385, 3386, 3387, 3388, 3389, 3390, 3391, 3392, 3393, 3394, 3395, 3396, 3397, 3398, 3399, 3400, 3401, 3402, 3403, 3404, 3405, 3406, 3407, 3408, 3409, 3410, 3411, 3412, 3413, 3414, 3415, 3416, 3417, 3418, 3419, 3420, 3421, 3422, 3423, 3424, 3425, 3426, 3427, 3428, 3429, 3430, 3431, 3432, 3433, 3434, 3435, 3436, 3437, 3438, 3439, 3440, 3441, 3442, 3443, 3444, 3445, 3446, 3447, 3448, 3449, 3450, 3451, 3452, 3453, 3454, 3455, 3456, 3457, 3458, 3459, 3460, 3461, 3462, 3463, 3464, 3465, 3466, 3467, 3468, 3469, 3470, 3471, 3472, 3473, 3474, 3475, 3476, 3477, 3478, 3479, 3480, 3481, 3482, 3483, 3484, 3485, 3486, 3487, 3488, 3489, 3490, 3491, 3492, 3493, 3494, 3495, 3496, 3497, 3498, 3499, 3500, 3501, 3502, 3503, 3504, 3505, 3506, 3507, 3508, 3509, 3510, 3511, 3512, 3513, 3514, 3515, 3516, 3517, 3518, 3519, 3520, 3521, 3522, 3523, 3524, 3525, 3526, 3527, 3528, 3529, 3530, 3531, 3532, 3533, 3534, 3535, 3536, 3537, 3538, 3539, 3540, 3541, 3542, 3543, 3544, 3545, 3546, 3547, 3548, 3549, 3550, 3551, 3552, 3553, 3554, 3555, 3556, 3557, 3558, 3559, 3560, 3561, 3562, 3563, 3564, 3565, 3566, 3567, 3568, 3569, 3570, 3571, 3572, 3573, 3574, 3575, 3576, 3577, 3578, 3579, 3580, 3581, 3582, 3583, 3584, 3585, 3586, 3587, 3588, 3589, 3590, 3591, 3592, 3593, 3594, 3595, 3596, 3597, 3598, 3599, 3600, 3601, 3602, 3603, 3604, 3605, 3606, 3607, 3608, 3609, 3610, 3611, 3612, 3613, 3614, 3615, 3616, 3617, 3618, 3619, 3620, 3621, 3622, 3623, 3624, 3625, 3626, 3627, 3628, 3629, 3630, 3631, 3632, 3633, 3634, 3635, 3636, 3637, 3638, 3639, 3640, 3641, 3642, 3643, 3644, 3645, 3646, 3647, 3648, 3649, 3650, 3651, 3652, 3653, 3654, 3655, 3656, 3657, 3658, 3659, 3660, 3661, 3662, 3663, 3664, 3665, 3666, 3667, 3668, 3669, 3670, 3671, 3672, 3673, 3674, 3675, 3676, 3677, 3678, 3679, 3680, 3681, 3682, 3683, 3684, 3685, 3686, 3687, 3688, 3689, 3690, 3691, 3692, 3693, 3694, 3695, 3696, 3697, 3698, 3699, 3700, 3701, 3702, 3703, 3704, 3705, 3706, 3707, 3708, 3709, 3710, 3711, 3712, 3713, 3714, 3715, 3716, 3717, 3718, 3719, 3720, 3721, 3722, 3723, 3724, 3725, 3726, 3727, 3728, 3729, 3730, 3731, 3732, 3733, 3734, 3735, 3736, 3737, 3738, 3739, 3740, 3741, 3742, 3743, 3744, 3745, 3746, 3747, 3748, 3749, 3750, 3751, 3752, 3753, 3754, 3755, 3756, 3757, 3758, 3759, 3760, 3761, 3762, 3763, 3764, 3765, 3766, 3767, 3768, 3769, 3770, 3771, 3772, 3773, 3774, 3775, 3776, 3777, 3778, 3779, 3780, 3781, 3782, 3783, 3784, 3785, 3786, 3787, 3788, 3789, 3790, 3791, 3792, 3793, 3794, 3795, 3796, 3797, 3798, 3799, 3800, 3801, 3802, 3803, 3804, 3805, 3806, 3807, 3808, 3809, 3810, 3811, 3812, 3813, 3814, 3815, 3816, 3817, 3818, 3819, 3820, 3821, 3822, 3823, 3824, 3825, 3826, 3827, 3828, 3829, 3830, 3831, 3832, 3833, 3834, 3835, 3836, 3837, 3838, 3839, 3840, 3841, 3842, 3843, 3844, 3845, 3846, 3847, 3848, 3849, 3850, 3851, 3852, 3853, 3854, 3855, 3856, 3857, 3858, 3859, 3860, 3861, 3862, 3863, 3864, 3865, 3866, 3867, 3868, 3869, 3870, 3871, 3872, 3873, 3874, 3875, 3876, 3877, 3878, 3879, 3880, 3881, 3882, 3883, 3884, 3885, 3886, 3887, 3888, 3889, 3890, 3891, 3892, 3893, 3894, 3895, 3896, 3897, 3898, 3899, 3900, 3901, 3902, 3903, 3904, 3905, 3906, 3907, 3908, 3909, 3910, 3911, 3912, 3913, 3914, 3915, 3916, 3917, 3918, 3919, 3920, 3921, 3922, 3923, 3924, 3925, 3926, 3927, 3928, 3929, 3930, 3931, 3932, 3933, 3934, 3935, 3936, 3937, 3938, 3939, 3940, 3941, 3942, 3943, 3944, 3945, 3946, 3947, 3948, 3949, 3950, 3951, 3952, 3953, 3954, 3955, 3956, 3957, 3958, 3959, 3960, 3961, 3962, 3963, 3964, 3965, 3966, 3967, 3968, 3969, 3970, 3971, 3972, 3973, 3974, 3975, 3976, 3977, 3978, 3979, 3980, 3981, 3982, 3983, 3984, 3985, 3986, 3987, 3988, 3989, 3990, 3991, 3992, 3993, 3994, 3995, 3996, 3997, 3998, 3999, 4000, 4001, 4002, 4003, 4004, 4005, 4006, 4007, 4008, 4009, 4010, 4011, 4012, 4013, 4014, 4015, 4016, 4017, 4018, 4019, 4020, 4021, 4022, 4023, 4024, 4025, 4026, 4027, 4028, 4029, 4030, 4031, 4032, 4033, 4034, 4035, 4036, 4037, 4038, 4039, 4040, 4041, 4042, 4044, 4045, 4046, 4047, 4048, 4049, 4050, 4051, 4052, 4053, 4054, 4055, 4056, 4057, 4058, 4059, 4060, 4061, 4062, 4063, 4064, 4065, 4066, 4067, 4068, 4069, 4070, 4072, 4073, 4074, 4075, 4076, 4077, 4078, 4079, 4080, 4081, 4082, 4083, 4084, 4085, 4086, 4087, 4088, 4089, 4090, 4091, 4092, 4093, 4094, 4095, 4096, 4097, 4098, 4099, 4100, 4101, 4102, 4103, 4104, 4105, 4106, 4107, 4108, 4109, 4110, 4111, 4112, 4113, 4114, 4115, 4116, 4117, 4118, 4119, 4120, 4121, 4122, 4123, 4124, 4125, 4126, 4127, 4128, 4129, 4130, 4131, 4132, 4133, 4134, 4135, 4136, 4137, 4138, 4139, 4140, 4141, 4142, 4143, 4144, 4145, 4146, 4147, 4148, 4149, 4150, 4151, 4152, 4153, 4154, 4155, 4156, 4157, 4158, 4159, 4160, 4161, 4162, 4163, 4164, 4165, 4166, 4167, 4168, 4169, 4170, 4171, 4172, 4173, 4174, 4175, 4176, 4177, 4178, 4179, 4180, 4181, 4182, 4183, 4184, 4185, 4186, 4187, 4188, 4189, 4190, 4191, 4192, 4193, 4194, 4195, 4196, 4197, 4198, 4199, 4200, 4201, 4202, 4203, 4204, 4205, 4206, 4207, 4208, 4209, 4210, 4211, 4213, 4214, 4215, 4216, 4217, 4218, 4219, 4220, 4221, 4222, 4223, 4224, 4225, 4226, 4227, 4228, 4229, 4230, 4231, 4233, 4234, 4235, 4236, 4237, 4238, 4239, 4240, 4241, 4242, 4243, 4244, 4245, 4246, 4247, 4248, 4249, 4250, 4251, 4252, 4253, 4254, 4256, 4257, 4258, 4259, 4260, 4261, 4262, 4263, 4264, 4265, 4266, 4267, 4268, 4269, 4270, 4271, 4272, 4273, 4274, 4275, 4277, 4278, 4279, 4280, 4281, 4282, 4283, 4284, 4285, 4286, 4287, 4288, 4289, 4290, 4291, 4292, 4293, 4294, 4295, 4296, 4297, 4299, 4300, 4301, 4302, 4303, 4304, 4305, 4306, 4307, 4308, 4310, 4311, 4312, 4313, 4314, 4315, 4316, 4317, 4318, 4319, 4320, 4321, 4322, 4323, 4324, 4325, 4327, 4328, 4329, 4330, 4331, 4332, 4333, 4334, 4335, 4336, 4337, 4338, 4339, 4340, 4341, 4342, 4343, 4344, 4345, 4346, 4347, 4348, 4349, 4350, 4351, 4352, 4353, 4354, 4355, 4356, 4357, 4358, 4359, 4360, 4361, 4362, 4363, 4364, 4365, 4366, 4367, 4368, 4369, 4370, 4371, 4372, 4373, 4374, 4375, 4376, 4377, 4378, 4379, 4380, 4381, 4382, 4383, 4384, 4385, 4386, 4387, 4388, 4389, 4390, 4391, 4392, 4393, 4395, 4396, 4397, 4398, 4399, 4400, 4401, 4402, 4403, 4404, 4405, 4406, 4407, 4408, 4409, 4410, 4411, 4412, 4413, 4414, 4415, 4416, 4417, 4418, 4419, 4420, 4421, 4422, 4423, 4424, 4425, 4426, 4427, 4428, 4429, 4430, 4431, 4432, 4433, 4434, 4436, 4437, 4438, 4439, 4440, 4441, 4442, 4443, 4444, 4445, 4446, 4447, 4448, 4449, 4450, 4451, 4452, 4454, 4455, 4456, 4457, 4458, 4459, 4460, 4461, 4462, 4463, 4464, 4466, 4467, 4468, 4469, 4470, 4471, 4472, 4473, 4474, 4475, 4476, 4477, 4478, 4479, 4480, 4481, 4482, 4484, 4485, 4486, 4487, 4488, 4489, 4490, 4491, 4492, 4493, 4494, 4495, 4496, 4497, 4498, 4499, 4500, 4501, 4502, 4503, 4504, 4505, 4506, 4507, 4508, 4509, 4510, 4511, 4512, 4513, 4514, 4515, 4516, 4517, 4518, 4519, 4520, 4521, 4522, 4523, 4524, 4525, 4526, 4527, 4529, 4530, 4531, 4532, 4533, 4534, 4535, 4536, 4537, 4538, 4539, 4540, 4541, 4542, 4543, 4544, 4545, 4546, 4547, 4548, 4549, 4550, 4551, 4552, 4553, 4554, 4555, 4556, 4557, 4559, 4560, 4562, 4563, 4564, 4565, 4566, 4568, 4569, 4570, 4571, 4572, 4573, 4574, 4575, 4576, 4577, 4579, 4580, 4581, 4584, 4585, 4586, 4587, 4588, 4589, 4590, 4592, 4593, 4594, 4595, 4596, 4597, 4598, 4599, 4600, 4602, 4603, 4604, 4606, 4607, 4608, 4609, 4610, 4611, 4612, 4613, 4614, 4615, 4616, 4617, 4619, 4620, 4621, 4622, 4623, 4624, 4625, 4627, 4628, 4629, 4630, 4631, 4634, 4635, 4636, 4637, 4638, 4639, 4640, 4641, 4642, 4643, 4644, 4645, 4646, 4647, 4648, 4649, 4650, 4651, 4652, 4653, 4654, 4655, 4656, 4657, 4658, 4659, 4660, 4661, 4662, 4663, 4664, 4665, 4667, 4668, 4669, 4670, 4671, 4672, 4673, 4674, 4675, 4676, 4677, 4680, 4682, 4684, 4685, 4686, 4687, 4688, 4689, 4690, 4691, 4692, 4693, 4694, 4695, 4696, 4697, 4702, 4703, 4704, 4705, 4706, 4707, 4708, 4709, 4710, 4711, 4712, 4713, 4714, 4715, 4716, 4717, 4718, 4719, 4720, 4721, 4723, 4724, 4725, 4726, 4727, 4728, 4729, 4730, 4731, 4732, 4733, 4735, 4736, 4737, 4739, 4740, 4741, 4743, 4744, 4745, 4746, 4747, 4749, 4750, 4752, 4753, 4754, 4755, 4756, 4757, 4758, 4759, 4760, 4761, 4762, 4763, 4764, 4765, 4766, 4767, 4768, 4770, 4771, 4772, 4773, 4774, 4775, 4776, 4777, 4778, 4779, 4780, 4781, 4783, 4784, 4785, 4786, 4788, 4789, 4790, 4791, 4792, 4793, 4794, 4795, 4797, 4798, 4799, 4800, 4801, 4802, 4803, 4804, 4805, 4806, 4807, 4808, 4809, 4810, 4811, 4812, 4814, 4815, 4816, 4817, 4818, 4819, 4820, 4821, 4822, 4823, 4824, 4825, 4826, 4828, 4829, 4830, 4831, 4832, 4833, 4834, 4835, 4836, 4837, 4838, 4839, 4840, 4841, 4842, 4843, 4844, 4845, 4846, 4848, 4849, 4850, 4851, 4852, 4854, 4855, 4856, 4857, 4858, 4859, 4860, 4861, 4862, 4863, 4864, 4865, 4866, 4867, 4868, 4869, 4870, 4871, 4872, 4873, 4874, 4876, 4877, 4878, 4879, 4880, 4881, 4882, 4883, 4885, 4886, 4887, 4889, 4890, 4891, 4892, 4893, 4895, 4896, 4897, 4898, 4901, 4902, 4903, 4904, 4906, 4907, 4908, 4909, 4911, 4912, 4913, 4914, 4915, 4916, 4917, 4918, 4919, 4921, 4922, 4923, 4925, 4926, 4927, 4928, 4929, 4930, 4932, 4933, 4934, 4935, 4936, 4937, 4938, 4940, 4941, 4942, 4943, 4944, 4945, 4946, 4947, 4949, 4950, 4951, 4952, 4953, 4954, 4955, 4956, 4957, 4959, 4960, 4961, 4962, 4963, 4964, 4965, 4966, 4967, 4968, 4969, 4970, 4971, 4972, 4973, 4974, 4975, 4976, 4978, 4980, 4981, 4982, 4984, 4985, 4986, 4987, 4988, 4991, 4993, 4994, 4995, 4996, 4997, 4998, 4999, 5000, 5001, 5002, 5004, 5005, 5006, 5007, 5008, 5009, 5010, 5011, 5012, 5014, 5015, 5016, 5017, 5019, 5020, 5021, 5022, 5023, 5024, 5025, 5026, 5028, 5030, 5031, 5032, 5033, 5034, 5035, 5036, 5037, 5038, 5040, 5041, 5044, 5045, 5046, 5047, 5048, 5049, 5050, 5051, 5053, 5054, 5055, 5056, 5057, 5058, 5060, 5061, 5062, 5063, 5064, 5065, 5066, 5068, 5069, 5070, 5071, 5073, 5075, 5076, 5078, 5080, 5081, 5082, 5084, 5086, 5087, 5088, 5089, 5090, 5091, 5092, 5094, 5096, 5097, 5098, 5099, 5100, 5101, 5102, 5104, 5105, 5106, 5107, 5108, 5109, 5110, 5112, 5114, 5116, 5117, 5119, 5120, 5121, 5122, 5124, 5127, 5128, 5129, 5130, 5131, 5132, 5135, 5136, 5137, 5138, 5139, 5140, 5141, 5142, 5143, 5144, 5145, 5146, 5147, 5148, 5149, 5150, 5151, 5152, 5154, 5155, 5157, 5158, 5159, 5160, 5161, 5162, 5163, 5164, 5165, 5167, 5168, 5169, 5170, 5171, 5172, 5173, 5174, 5175, 5178, 5179, 5181, 5182, 5184, 5185, 5186, 5187, 5188, 5189, 5190, 5191, 5192, 5193, 5194, 5195, 5197, 5198, 5200, 5201, 5202, 5203, 5204, 5205, 5206, 5208, 5209, 5211, 5212, 5213, 5214, 5216, 5217, 5218, 5221, 5222, 5223, 5224, 5225, 5226, 5227, 5229, 5230, 5234, 5236, 5237, 5240, 5241, 5242, 5243, 5244, 5245, 5246, 5247, 5250, 5252, 5253, 5255, 5256, 5257, 5258, 5259, 5260, 5262, 5264, 5267, 5270, 5271, 5272, 5273, 5274, 5275, 5277, 5278, 5280, 5281, 5282, 5284, 5286, 5287, 5288, 5290, 5291, 5292, 5293, 5294, 5296, 5299, 5302, 5303, 5304, 5305, 5306, 5307, 5308, 5310, 5311, 5312, 5313, 5315, 5316, 5319, 5320, 5322, 5323, 5324, 5325, 5327, 5328, 5329, 5330, 5331, 5332, 5337, 5338, 5339, 5340, 5341, 5342, 5343, 5344, 5345, 5347, 5348, 5349, 5351, 5352, 5353, 5354, 5356, 5358, 5359, 5361, 5364, 5366, 5368, 5369, 5371, 5372, 5374, 5375, 5376, 5378, 5380, 5381, 5382, 5385, 5386, 5387, 5389, 5391, 5393, 5395, 5396, 5397, 5399, 5400, 5403, 5404, 5406, 5407, 5410, 5411, 5412, 5413, 5414, 5415, 5417, 5418, 5421, 5423, 5426, 5427, 5429, 5430, 5431, 5432, 5433, 5436, 5438, 5439, 5440, 5445, 5449, 5453, 5454, 5456, 5457, 5458, 5459, 5461, 5464, 5468, 5469, 5470, 5471, 5472, 5473, 5474, 5477, 5478, 5479, 5481, 5482, 5484, 5486, 5487, 5492, 5493, 5495, 5496, 5497, 5498, 5499, 5500, 5502, 5504, 5505, 5507, 5508, 5509, 5510, 5511, 5513, 5514, 5516, 5518, 5519, 5520, 5521, 5522, 5523, 5524, 5525, 5527, 5529, 5532, 5534, 5535, 5536, 5537, 5538, 5539, 5540, 5541, 5542, 5549, 5552, 5554, 5555, 5557, 5558, 5559, 5560, 5562, 5564, 5565, 5567, 5568, 5570, 5571, 5572, 5574, 5575, 5576, 5577, 5580, 5585, 5587, 5588, 5591, 5594, 5601, 5602, 5603, 5604, 5605, 5606, 5607, 5608, 5613, 5616, 5617, 5618, 5620, 5621, 5623, 5624, 5625, 5637, 5638, 5643, 5648, 5652, 5654, 5658, 5665, 5673, 5674, 5676, 5692, 5693, 5694, 5699, 5708, 5714, 5717, 5721, 5722, 5725, 5732, 5736, 5737, 5741, 5742, 5746, 5753, 5755, 5757, 5758, 5764, 5766, 5770, 5776, 5778, 5786, 5797, 5798, 5806, 5813, 5816, 5818, 5822, 5832, 5834, 5835, 5842, 5843, 5850, 5857, 5861, 5865, 5867, 5894, 5907, 5920, 5924, 5934, 5935, 5945, 5964, 5970, 5977, 5984, 6041, 6063, 6078, 6097, 6099, 6117, 6119, 6120, 6126, 6131, 6139, 6166, 6193, 6201, 6225, 6232, 6244, 6312, 6324, 6325, 6344, 6361, 6363, 6373, 6468, 6470, 6503, 6510, 6522, 6531, 6532, 6536, 6537, 6571, 6584, 6588, 6591, 6595, 6598, 6604, 6646, 6655, 6664, 6672, 6676, 6733, 6734, 6740, 6763, 6787, 6792, 6811, 6813, 6816, 6828, 6837, 6865, 6868, 6882, 6889, 6907, 6924, 6948, 6950, 6951]\n",
      "\n",
      "Seat comfort\n",
      "[0, 1, 2, 3, 4, 5]\n",
      "\n",
      "Departure/Arrival time convenient\n",
      "[0, 1, 2, 3, 4, 5]\n",
      "\n",
      "Food and drink\n",
      "[0, 1, 2, 3, 4, 5]\n",
      "\n",
      "Gate location\n",
      "[0, 1, 2, 3, 4, 5]\n",
      "\n",
      "Inflight wifi service\n",
      "[0, 1, 2, 3, 4, 5]\n",
      "\n",
      "Inflight entertainment\n",
      "[0, 1, 2, 3, 4, 5]\n",
      "\n",
      "Online support\n",
      "[0, 1, 2, 3, 4, 5]\n",
      "\n",
      "Ease of Online booking\n",
      "[0, 1, 2, 3, 4, 5]\n",
      "\n",
      "On-board service\n",
      "[0, 1, 2, 3, 4, 5]\n",
      "\n",
      "Leg room service\n",
      "[0, 1, 2, 3, 4, 5]\n",
      "\n",
      "Baggage handling\n",
      "[1, 2, 3, 4, 5]\n",
      "\n",
      "Checkin service\n",
      "[0, 1, 2, 3, 4, 5]\n",
      "\n",
      "Cleanliness\n",
      "[0, 1, 2, 3, 4, 5]\n",
      "\n",
      "Online boarding\n",
      "[0, 1, 2, 3, 4, 5]\n",
      "\n",
      "Departure Delay in Minutes\n",
      "[0, 1, 2, 3, 4, 5, 6, 7, 8, 9, 10, 11, 12, 13, 14, 15, 16, 17, 18, 19, 20, 21, 22, 23, 24, 25, 26, 27, 28, 29, 30, 31, 32, 33, 34, 35, 36, 37, 38, 39, 40, 41, 42, 43, 44, 45, 46, 47, 48, 49, 50, 51, 52, 53, 54, 55, 56, 57, 58, 59, 60, 61, 62, 63, 64, 65, 66, 67, 68, 69, 70, 71, 72, 73, 74, 75, 76, 77, 78, 79, 80, 81, 82, 83, 84, 85, 86, 87, 88, 89, 90, 91, 92, 93, 94, 95, 96, 97, 98, 99, 100, 101, 102, 103, 104, 105, 106, 107, 108, 109, 110, 111, 112, 113, 114, 115, 116, 117, 118, 119, 120, 121, 122, 123, 124, 125, 126, 127, 128, 129, 130, 131, 132, 133, 134, 135, 136, 137, 138, 139, 140, 141, 142, 143, 144, 145, 146, 147, 148, 149, 150, 151, 152, 153, 154, 155, 156, 157, 158, 159, 160, 161, 162, 163, 164, 165, 166, 167, 168, 169, 170, 171, 172, 173, 174, 175, 176, 177, 178, 179, 180, 181, 182, 183, 184, 185, 186, 187, 188, 189, 190, 191, 192, 193, 194, 195, 196, 197, 198, 199, 200, 201, 202, 203, 204, 205, 206, 207, 208, 209, 210, 211, 212, 213, 214, 215, 216, 217, 218, 219, 220, 221, 222, 223, 224, 225, 226, 227, 228, 229, 230, 231, 232, 233, 234, 235, 236, 237, 238, 239, 240, 241, 242, 243, 244, 245, 246, 247, 248, 249, 250, 251, 252, 253, 254, 255, 256, 257, 258, 259, 260, 262, 263, 264, 265, 266, 267, 268, 269, 270, 271, 272, 273, 274, 275, 276, 277, 278, 279, 280, 281, 282, 283, 284, 285, 286, 287, 288, 289, 290, 291, 292, 293, 294, 295, 296, 297, 298, 299, 300, 301, 302, 303, 304, 305, 306, 307, 308, 309, 310, 311, 312, 313, 314, 315, 316, 317, 318, 319, 320, 321, 322, 323, 324, 326, 327, 328, 329, 330, 331, 332, 333, 334, 336, 337, 338, 339, 340, 341, 342, 343, 344, 345, 346, 347, 348, 350, 351, 352, 353, 355, 357, 358, 359, 360, 362, 363, 364, 365, 366, 368, 370, 371, 372, 373, 376, 377, 378, 381, 382, 383, 384, 388, 389, 390, 391, 392, 394, 396, 398, 399, 400, 401, 402, 404, 407, 410, 411, 412, 414, 415, 416, 419, 420, 423, 426, 427, 429, 430, 431, 433, 435, 437, 438, 444, 446, 447, 448, 450, 452, 454, 455, 459, 460, 463, 465, 469, 472, 480, 489, 491, 493, 496, 499, 501, 503, 505, 514, 519, 530, 531, 537, 559, 565, 566, 569, 570, 579, 581, 590, 595, 600, 610, 624, 626, 652, 692, 724, 726, 729, 748, 750, 756, 794, 815, 853, 859, 921, 930, 933, 951, 978, 1017, 1128, 1305, 1592]\n",
      "\n",
      "Arrival Delay in Minutes\n",
      "[0.0, 1.0, 2.0, 3.0, 4.0, 5.0, 6.0, 7.0, 8.0, 9.0, 10.0, 12.0, 13.0, 14.0, 15.0, 16.0, 17.0, 18.0, 19.0, 23.0, 24.0, 26.0, 27.0, 28.0, 29.0, 32.0, 33.0, 35.0, 36.0, 37.0, 38.0, 41.0, 44.0, 45.0, 48.0, 50.0, 53.0, 57.0, 59.0, 61.0, 63.0, 69.0, 75.0, 76.0, 80.0, 84.0, 86.0, 90.0, 96.0, 121.0, 131.0, 137.0, 142.0, 163.0, 175.0, 214.0, 222.0, 305.0, 440.0, nan, 11.0, 20.0, 21.0, 22.0, 25.0, 30.0, 31.0, 34.0, 39.0, 40.0, 42.0, 43.0, 46.0, 47.0, 49.0, 51.0, 52.0, 54.0, 55.0, 56.0, 58.0, 60.0, 62.0, 64.0, 65.0, 66.0, 67.0, 68.0, 70.0, 71.0, 72.0, 73.0, 74.0, 77.0, 78.0, 79.0, 81.0, 82.0, 83.0, 85.0, 87.0, 88.0, 89.0, 91.0, 92.0, 93.0, 94.0, 95.0, 97.0, 98.0, 99.0, 100.0, 101.0, 102.0, 103.0, 104.0, 105.0, 106.0, 107.0, 108.0, 109.0, 110.0, 111.0, 112.0, 113.0, 114.0, 115.0, 116.0, 117.0, 118.0, 119.0, 120.0, 122.0, 123.0, 124.0, 125.0, 126.0, 127.0, 128.0, 129.0, 130.0, 132.0, 133.0, 134.0, 135.0, 136.0, 138.0, 139.0, 140.0, 141.0, 143.0, 144.0, 145.0, 146.0, 147.0, 148.0, 149.0, 150.0, 151.0, 152.0, 153.0, 154.0, 155.0, 156.0, 157.0, 158.0, 159.0, 160.0, 161.0, 162.0, 164.0, 165.0, 166.0, 167.0, 168.0, 169.0, 170.0, 171.0, 172.0, 173.0, 174.0, 176.0, 177.0, 178.0, 179.0, 180.0, 181.0, 182.0, 183.0, 184.0, 185.0, 186.0, 187.0, 188.0, 189.0, 190.0, 191.0, 192.0, 193.0, 194.0, 195.0, 196.0, 197.0, 198.0, 199.0, 200.0, 201.0, 202.0, 203.0, 204.0, 205.0, 206.0, 207.0, 208.0, 209.0, 210.0, 211.0, 212.0, 213.0, 215.0, 216.0, 217.0, 218.0, 219.0, 220.0, 221.0, 223.0, 224.0, 225.0, 226.0, 227.0, 228.0, 229.0, 230.0, 231.0, 232.0, 233.0, 234.0, 235.0, 236.0, 237.0, 238.0, 239.0, 240.0, 241.0, 242.0, 243.0, 244.0, 245.0, 246.0, 247.0, 248.0, 249.0, 250.0, 251.0, 252.0, 253.0, 254.0, 255.0, 256.0, 257.0, 258.0, 259.0, 260.0, 261.0, 262.0, 263.0, 264.0, 265.0, 266.0, 267.0, 268.0, 269.0, 270.0, 271.0, 272.0, 273.0, 274.0, 275.0, 276.0, 277.0, 278.0, 279.0, 280.0, 281.0, 282.0, 283.0, 284.0, 285.0, 286.0, 287.0, 288.0, 289.0, 290.0, 291.0, 292.0, 293.0, 294.0, 295.0, 296.0, 297.0, 298.0, 299.0, 300.0, 301.0, 302.0, 303.0, 304.0, 306.0, 307.0, 308.0, 309.0, 310.0, 311.0, 312.0, 313.0, 314.0, 315.0, 316.0, 317.0, 318.0, 319.0, 320.0, 321.0, 322.0, 323.0, 324.0, 325.0, 326.0, 327.0, 329.0, 330.0, 331.0, 333.0, 334.0, 335.0, 336.0, 337.0, 338.0, 339.0, 341.0, 342.0, 344.0, 345.0, 346.0, 347.0, 348.0, 349.0, 350.0, 351.0, 352.0, 353.0, 354.0, 355.0, 356.0, 357.0, 358.0, 359.0, 360.0, 362.0, 363.0, 364.0, 366.0, 368.0, 369.0, 370.0, 371.0, 372.0, 374.0, 377.0, 378.0, 379.0, 380.0, 381.0, 382.0, 383.0, 385.0, 386.0, 388.0, 389.0, 391.0, 392.0, 393.0, 395.0, 397.0, 399.0, 400.0, 401.0, 402.0, 403.0, 404.0, 406.0, 407.0, 409.0, 410.0, 412.0, 413.0, 416.0, 417.0, 418.0, 420.0, 422.0, 424.0, 425.0, 427.0, 429.0, 431.0, 432.0, 433.0, 434.0, 435.0, 436.0, 438.0, 443.0, 444.0, 445.0, 446.0, 448.0, 454.0, 455.0, 457.0, 458.0, 459.0, 460.0, 470.0, 471.0, 473.0, 484.0, 485.0, 486.0, 491.0, 493.0, 500.0, 502.0, 503.0, 507.0, 516.0, 518.0, 524.0, 543.0, 555.0, 561.0, 567.0, 580.0, 586.0, 589.0, 593.0, 600.0, 604.0, 608.0, 615.0, 624.0, 638.0, 691.0, 702.0, 705.0, 717.0, 720.0, 729.0, 748.0, 795.0, 822.0, 823.0, 860.0, 920.0, 924.0, 940.0, 952.0, 970.0, 1011.0, 1115.0, 1280.0, 1584.0]\n",
      "\n"
     ]
    }
   ],
   "source": [
    "# Print unique values from each column\n",
    "\n",
    "for col in df_original:\n",
    "    print(col)\n",
    "#    print(df_original[col].unique())\n",
    "    print(sorted(df_original[col].unique()))\n",
    "    print()\n",
    "\n",
    "# Another way to display unique values from each column, but in condensed format\n",
    "#df_original.apply(np.unique)"
   ]
  },
  {
   "cell_type": "markdown",
   "metadata": {
    "id": "40a58c8b"
   },
   "source": [
    "<details>\n",
    "  <summary><h4><strong> Hint 1 </strong></h4></summary>\n",
    "\n",
    "Use the `unique()` function on the column `'Class'`.\n",
    "\n",
    "</details>"
   ]
  },
  {
   "cell_type": "markdown",
   "metadata": {
    "id": "381c04eb"
   },
   "source": [
    "### Check the counts of the predicted labels\n",
    "\n",
    "In order to predict customer satisfaction, verify if the dataset is imbalanced. To do this, check the counts of each of the predicted labels. "
   ]
  },
  {
   "cell_type": "code",
   "execution_count": 8,
   "metadata": {
    "id": "8098d8a3"
   },
   "outputs": [
    {
     "name": "stdout",
     "output_type": "stream",
     "text": [
      "Number of satisfied and dissatisfied customers:\n",
      "satisfied       71087\n",
      "dissatisfied    58793\n",
      "Name: satisfaction, dtype: int64\n",
      "\n",
      "Percentage of satisfied and dissatisfied customers: \n",
      "satisfied       54.73283\n",
      "dissatisfied    45.26717\n",
      "Name: satisfaction, dtype: float64\n"
     ]
    }
   ],
   "source": [
    "print('Number of satisfied and dissatisfied customers:\\n', df_original['satisfaction'].value_counts(), sep='')\n",
    "print()\n",
    "print('Percentage of satisfied and dissatisfied customers: \\n', df_original['satisfaction'].value_counts(normalize=True)*100, sep='')"
   ]
  },
  {
   "cell_type": "markdown",
   "metadata": {
    "id": "9221f9a4"
   },
   "source": [
    "<details>\n",
    "  <summary><h4><strong> Hint 1</strong> </h4></summary>\n",
    "\n",
    "Use a function from the pandas library that returns a pandas series containing counts of unique values. \n",
    "\n",
    "</details>"
   ]
  },
  {
   "cell_type": "markdown",
   "metadata": {
    "id": "62d8c90f"
   },
   "source": [
    "<details>\n",
    "  <summary><h4><strong> Hint 2</strong> </h4></summary>\n",
    "\n",
    "Use the `value_counts()` function. Set the `dropna` parameter passed in to this function to `False` if you want to examine how many NaN values there are. \n",
    "\n",
    "</details>"
   ]
  },
  {
   "cell_type": "markdown",
   "metadata": {
    "id": "868c4ea3"
   },
   "source": [
    "**Question:** How many satisfied and dissatisfied customers were there?"
   ]
  },
  {
   "cell_type": "markdown",
   "metadata": {
    "id": "M8nBc7uC6Gkw"
   },
   "source": [
    "There are 71,087 satisified and 58,793 dissatisfied customers."
   ]
  },
  {
   "cell_type": "markdown",
   "metadata": {
    "id": "b6bd7c91"
   },
   "source": [
    "**Question:** What percentage of customers were satisfied? "
   ]
  },
  {
   "cell_type": "markdown",
   "metadata": {
    "id": "pgSK9GlM6J15"
   },
   "source": [
    "54.7% are satisfied and 45.3% are dissatisfied."
   ]
  },
  {
   "cell_type": "markdown",
   "metadata": {
    "id": "4222ca54"
   },
   "source": [
    "### Check for missing values"
   ]
  },
  {
   "cell_type": "markdown",
   "metadata": {
    "id": "TgANHJBVxpbI"
   },
   "source": [
    "The sklearn decision tree implementation does not support missing values. Check for missing values in the rows of the data. "
   ]
  },
  {
   "cell_type": "code",
   "execution_count": 9,
   "metadata": {
    "id": "842031fb",
    "scrolled": false
   },
   "outputs": [
    {
     "name": "stdout",
     "output_type": "stream",
     "text": [
      "Number of rows with missing data: 393\n",
      "\n",
      "Number of missing data in each column:\n",
      "satisfaction                           0\n",
      "Customer Type                          0\n",
      "Age                                    0\n",
      "Type of Travel                         0\n",
      "Class                                  0\n",
      "Flight Distance                        0\n",
      "Seat comfort                           0\n",
      "Departure/Arrival time convenient      0\n",
      "Food and drink                         0\n",
      "Gate location                          0\n",
      "Inflight wifi service                  0\n",
      "Inflight entertainment                 0\n",
      "Online support                         0\n",
      "Ease of Online booking                 0\n",
      "On-board service                       0\n",
      "Leg room service                       0\n",
      "Baggage handling                       0\n",
      "Checkin service                        0\n",
      "Cleanliness                            0\n",
      "Online boarding                        0\n",
      "Departure Delay in Minutes             0\n",
      "Arrival Delay in Minutes             393\n",
      "dtype: int64\n",
      "\n",
      "Row(s) with missing data:\n",
      "        satisfaction      Customer Type  Age   Type of Travel     Class  \\\n",
      "145        satisfied     Loyal Customer   21  Personal Travel       Eco   \n",
      "246        satisfied     Loyal Customer   28  Personal Travel       Eco   \n",
      "710        satisfied     Loyal Customer   28  Personal Travel       Eco   \n",
      "736        satisfied     Loyal Customer    9  Personal Travel       Eco   \n",
      "818     dissatisfied     Loyal Customer    9  Personal Travel       Eco   \n",
      "...              ...                ...  ...              ...       ...   \n",
      "127739     satisfied     Loyal Customer   44  Business travel  Business   \n",
      "128131     satisfied     Loyal Customer   39  Business travel  Business   \n",
      "128710     satisfied     Loyal Customer   45  Business travel       Eco   \n",
      "129774     satisfied  disloyal Customer   49  Personal Travel       Eco   \n",
      "129873     satisfied  disloyal Customer   63  Personal Travel       Eco   \n",
      "\n",
      "        Flight Distance  Seat comfort  Departure/Arrival time convenient  \\\n",
      "145                4804             0                                  2   \n",
      "246                1364             0                                  3   \n",
      "710                1792             0                                  5   \n",
      "736                1862             0                                  5   \n",
      "818                1668             1                                  0   \n",
      "...                 ...           ...                                ...   \n",
      "127739             3431             2                                  2   \n",
      "128131             1595             4                                  4   \n",
      "128710              871             5                                  1   \n",
      "129774             1594             5                                  4   \n",
      "129873             1942             5                                  5   \n",
      "\n",
      "        Food and drink  Gate location  Inflight wifi service  \\\n",
      "145                  0              4                      5   \n",
      "246                  0              4                      2   \n",
      "710                  0              3                      5   \n",
      "736                  0              4                      3   \n",
      "818                  1              1                      4   \n",
      "...                ...            ...                    ...   \n",
      "127739               3              2                      2   \n",
      "128131               4              4                      2   \n",
      "128710               1              1                      5   \n",
      "129774               5              2                      3   \n",
      "129873               4              4                      3   \n",
      "\n",
      "        Inflight entertainment  Online support  Ease of Online booking  \\\n",
      "145                          0               5                       5   \n",
      "246                          0               4                       2   \n",
      "710                          0               5                       5   \n",
      "736                          0               3                       3   \n",
      "818                          1               4                       4   \n",
      "...                        ...             ...                     ...   \n",
      "127739                       2               4                       5   \n",
      "128131                       4               5                       5   \n",
      "128710                       5               2                       5   \n",
      "129774                       5               3                       3   \n",
      "129873                       4               3                       3   \n",
      "\n",
      "        On-board service  Leg room service  Baggage handling  Checkin service  \\\n",
      "145                    4                 1                 4                2   \n",
      "246                    1                 1                 3                4   \n",
      "710                    4                 4                 5                3   \n",
      "736                    5                 3                 4                4   \n",
      "818                    4                 5                 1                5   \n",
      "...                  ...               ...               ...              ...   \n",
      "127739                 5                 5                 5                5   \n",
      "128131                 5                 5                 5                3   \n",
      "128710                 5                 5                 5                1   \n",
      "129774                 1                 4                 3                3   \n",
      "129873                 5                 2                 5                3   \n",
      "\n",
      "        Cleanliness  Online boarding  Departure Delay in Minutes  \\\n",
      "145               3                5                          20   \n",
      "246               3                2                           0   \n",
      "710               4                5                          24   \n",
      "736               4                3                           0   \n",
      "818               1                4                           0   \n",
      "...             ...              ...                         ...   \n",
      "127739            5                4                          70   \n",
      "128131            5                5                           0   \n",
      "128710            5                5                         100   \n",
      "129774            4                3                           0   \n",
      "129873            5                3                           7   \n",
      "\n",
      "        Arrival Delay in Minutes  \n",
      "145                          NaN  \n",
      "246                          NaN  \n",
      "710                          NaN  \n",
      "736                          NaN  \n",
      "818                          NaN  \n",
      "...                          ...  \n",
      "127739                       NaN  \n",
      "128131                       NaN  \n",
      "128710                       NaN  \n",
      "129774                       NaN  \n",
      "129873                       NaN  \n",
      "\n",
      "[393 rows x 22 columns]\n"
     ]
    }
   ],
   "source": [
    "print('Number of rows with missing data: ', df_original.isna().any(axis=1).sum(), sep='')\n",
    "print()\n",
    "print('Number of missing data in each column:')\n",
    "print(df_original.isnull().sum(axis=0))\n",
    "print()\n",
    "print('Row(s) with missing data:')\n",
    "print(df_original[df_original.isna().any(axis=1)])"
   ]
  },
  {
   "cell_type": "markdown",
   "metadata": {
    "id": "ptn9xlIjJOAL"
   },
   "source": [
    "<details>\n",
    "  <summary><h4><strong>Hint 1</h4></summary></strong>\n",
    "\n",
    "Use the `isnull` function and the `sum` function. \n",
    "\n",
    "</details>"
   ]
  },
  {
   "cell_type": "markdown",
   "metadata": {
    "id": "307f50c5"
   },
   "source": [
    "<details>\n",
    "  <summary><h4><strong> Hint 2 </strong> </h4></summary>\n",
    "\n",
    "To get the number of rows in the data with missing values, use the `isnull` function followed by the `sum` function.\n",
    "\n",
    "</details>"
   ]
  },
  {
   "cell_type": "markdown",
   "metadata": {
    "id": "5c11852b"
   },
   "source": [
    "**Question:** Why is it important to check how many rows and columns there are in the dataset?"
   ]
  },
  {
   "cell_type": "markdown",
   "metadata": {},
   "source": [
    "Missing data can affect the outcome of the dataset if the dataset is small. Some modeling techniques cannot accept missing values."
   ]
  },
  {
   "cell_type": "markdown",
   "metadata": {},
   "source": [
    "### Check the number of rows and columns in the dataset"
   ]
  },
  {
   "cell_type": "code",
   "execution_count": 10,
   "metadata": {
    "id": "a5e89463"
   },
   "outputs": [
    {
     "data": {
      "text/plain": [
       "(129880, 22)"
      ]
     },
     "execution_count": 10,
     "metadata": {},
     "output_type": "execute_result"
    }
   ],
   "source": [
    "# Checked previously with .info(), but here it is again with another technique\n",
    "\n",
    "df_original.shape"
   ]
  },
  {
   "cell_type": "markdown",
   "metadata": {
    "id": "10900f58"
   },
   "source": [
    "<details>\n",
    "  <summary><h4><strong> Hint 1 </strong> </h4></summary>\n",
    "\n",
    "Use the `shape` attribute on the DataFrame.\n",
    "\n",
    "</details>"
   ]
  },
  {
   "cell_type": "markdown",
   "metadata": {
    "id": "eb005a73-4621-45b9-8114-30472ce20327"
   },
   "source": [
    "### Drop the rows with missing values\n",
    "\n",
    "Drop the rows with missing values and save the resulting pandas DataFrame in a variable named `df_subset`."
   ]
  },
  {
   "cell_type": "code",
   "execution_count": 11,
   "metadata": {
    "id": "1cee438e-8b1f-4855-855e-3723d1958b69"
   },
   "outputs": [],
   "source": [
    "# Drop rows with missing data and save into new dataframe\n",
    "# Reset index\n",
    "\n",
    "df_subset = df_original.dropna(axis=0).reset_index(drop=True)"
   ]
  },
  {
   "cell_type": "markdown",
   "metadata": {
    "id": "dec2a35e-ba31-4ec8-b8fc-1c0bdf075d19",
    "tags": []
   },
   "source": [
    "<details>\n",
    "  <summary><h4><strong> Hint 1 </strong> </h4></summary>\n",
    "\n",
    "Use the `dropna` function.\n",
    "\n",
    "</details>"
   ]
  },
  {
   "cell_type": "markdown",
   "metadata": {
    "id": "374b2b21"
   },
   "source": [
    "<details>\n",
    "  <summary><h4><strong>Hint 2</strong></h4></summary>\n",
    "\n",
    "Set the axis parameter passed into the `dropna` function to `0` if you want to drop rows containing missing values, or `1` if you want to drop columns containing missing values. Optionally, use reset_index to avoid a SettingWithCopy warning later in the notebook. \n",
    "\n",
    "</details>"
   ]
  },
  {
   "cell_type": "markdown",
   "metadata": {
    "id": "ymfmX-WvW31z"
   },
   "source": [
    "### Check for missing values\n",
    "\n",
    "Check that `df_subset` does not contain any missing values."
   ]
  },
  {
   "cell_type": "code",
   "execution_count": 12,
   "metadata": {
    "id": "n36d4yztW4BA"
   },
   "outputs": [
    {
     "name": "stdout",
     "output_type": "stream",
     "text": [
      "Number of rows with missing data: 0\n",
      "\n",
      "Number of missing data in each column:\n",
      "satisfaction                         0\n",
      "Customer Type                        0\n",
      "Age                                  0\n",
      "Type of Travel                       0\n",
      "Class                                0\n",
      "Flight Distance                      0\n",
      "Seat comfort                         0\n",
      "Departure/Arrival time convenient    0\n",
      "Food and drink                       0\n",
      "Gate location                        0\n",
      "Inflight wifi service                0\n",
      "Inflight entertainment               0\n",
      "Online support                       0\n",
      "Ease of Online booking               0\n",
      "On-board service                     0\n",
      "Leg room service                     0\n",
      "Baggage handling                     0\n",
      "Checkin service                      0\n",
      "Cleanliness                          0\n",
      "Online boarding                      0\n",
      "Departure Delay in Minutes           0\n",
      "Arrival Delay in Minutes             0\n",
      "dtype: int64\n",
      "\n",
      "Row(s) with missing data:\n",
      "Empty DataFrame\n",
      "Columns: [satisfaction, Customer Type, Age, Type of Travel, Class, Flight Distance, Seat comfort, Departure/Arrival time convenient, Food and drink, Gate location, Inflight wifi service, Inflight entertainment, Online support, Ease of Online booking, On-board service, Leg room service, Baggage handling, Checkin service, Cleanliness, Online boarding, Departure Delay in Minutes, Arrival Delay in Minutes]\n",
      "Index: []\n"
     ]
    }
   ],
   "source": [
    "print('Number of rows with missing data: ', df_subset.isna().any(axis=1).sum(), sep='')\n",
    "print()\n",
    "print('Number of missing data in each column:')\n",
    "print(df_subset.isnull().sum(axis=0))\n",
    "print()\n",
    "print('Row(s) with missing data:')\n",
    "print(df_subset[df_subset.isna().any(axis=1)])"
   ]
  },
  {
   "cell_type": "markdown",
   "metadata": {
    "id": "8ed62a28"
   },
   "source": [
    "<details>\n",
    "  <summary><h4><strong> Hint 1</strong></h4></summary>\n",
    "\n",
    "Use the `isna()`function and the `sum()` function. \n",
    "\n",
    "</details>"
   ]
  },
  {
   "cell_type": "markdown",
   "metadata": {
    "id": "d5a45cd9"
   },
   "source": [
    "<details>\n",
    "  <summary><h4><strong> Hint 2</strong> </h4></summary>\n",
    "\n",
    "To get the number of rows in the data with missing values, use the `isna()` function followed by the `sum()` function.\n",
    "\n",
    "</details>"
   ]
  },
  {
   "cell_type": "markdown",
   "metadata": {
    "id": "18c6650e"
   },
   "source": [
    "### Check the number of rows and columns in the dataset again\n",
    "\n",
    "Check how many rows and columns are remaining in the dataset. You should now have 393 fewer rows of data."
   ]
  },
  {
   "cell_type": "code",
   "execution_count": 13,
   "metadata": {
    "id": "fa951c92"
   },
   "outputs": [
    {
     "data": {
      "text/plain": [
       "(129487, 22)"
      ]
     },
     "execution_count": 13,
     "metadata": {},
     "output_type": "execute_result"
    }
   ],
   "source": [
    "df_subset.shape\n",
    "\n",
    "# 129880 - 393 = 12,9487"
   ]
  },
  {
   "cell_type": "markdown",
   "metadata": {
    "id": "d491a508"
   },
   "source": [
    "### Encode the data\n",
    "\n",
    "Four columns (`satisfaction`, `Customer Type`, `Type of Travel`, `Class`) are the pandas dtype object. Decision trees need numeric columns. Start by converting the ordinal `Class` column into numeric. "
   ]
  },
  {
   "cell_type": "code",
   "execution_count": 14,
   "metadata": {
    "id": "4d580627"
   },
   "outputs": [],
   "source": [
    "# `Class` is ordinal so they have order\n",
    "# Set the order for the values\n",
    "# `Eco`: 1\n",
    "# `Eco Plus`: 2\n",
    "# `Business`: 3\n",
    "\n",
    "df_subset['Class'] = df_subset['Class'].map({'Business': 3, 'Eco Plus': 2, 'Eco': 1}) "
   ]
  },
  {
   "cell_type": "markdown",
   "metadata": {
    "id": "d07b3ae9"
   },
   "source": [
    "<details>\n",
    "  <summary><h4><strong> Hint 1 </strong> </h4></summary>\n",
    "\n",
    "Use the `map()` or `replace()` function. \n",
    "\n",
    "</details>"
   ]
  },
  {
   "cell_type": "markdown",
   "metadata": {
    "id": "fa6d2042"
   },
   "source": [
    "<details>\n",
    "  <summary><h4><strong>Hint 2</strong></h4></summary>\n",
    "\n",
    "For both functions, you will need to pass in a dictionary of class mappings `{\"Business\": 3, \"Eco Plus\": 2, \"Eco\": 1})`.\n",
    "\n",
    "</details>"
   ]
  },
  {
   "cell_type": "markdown",
   "metadata": {
    "id": "LOy2vjgVyMw-"
   },
   "source": [
    "### Represent the data in the target variable numerically\n",
    "\n",
    "To represent the data in the target variable numerically, assign `\"satisfied\"` to the label `1` and `\"dissatisfied\"` to the label `0` in the `satisfaction` column. "
   ]
  },
  {
   "cell_type": "code",
   "execution_count": 15,
   "metadata": {
    "id": "q1o64I02zay7"
   },
   "outputs": [],
   "source": [
    "# Map unique `satisfaction` values\n",
    "# `dissatisfied`: 0\n",
    "# `satisfied`: 1\n",
    "\n",
    "df_subset['satisfaction'] = df_subset['satisfaction'].map({\"satisfied\": 1, \"dissatisfied\": 0})"
   ]
  },
  {
   "cell_type": "markdown",
   "metadata": {
    "id": "gPed8NIG1DYR"
   },
   "source": [
    "<details>\n",
    "  <summary><h4><strong> Hint 1 </strong> </h4></summary>\n",
    "\n",
    "Use the `map()` function to assign existing values in a column to new values.\n",
    "\n",
    "</details>"
   ]
  },
  {
   "cell_type": "markdown",
   "metadata": {
    "id": "5m6ZF0yp1DYT"
   },
   "source": [
    "<details>\n",
    "  <summary><h4><strong> Hint 2 </strong></h4></summary>\n",
    "\n",
    "Call `map()` on the `satisfaction` column and pass in a dictionary specifying that `\"satisfied\"` should be assigned to `1` and `\"dissatisfied\"` should be assigned to `0`.\n",
    "\n",
    "</details>"
   ]
  },
  {
   "cell_type": "markdown",
   "metadata": {
    "id": "s_Jf_sDy2Mmp"
   },
   "source": [
    "<details>\n",
    "  <summary><h4><strong> Hint 3 </strong></h4></summary>\n",
    "\n",
    "Update the `satisfaction` column in `df_subset` with the newly assigned values.\n",
    "\n",
    "</details>"
   ]
  },
  {
   "cell_type": "markdown",
   "metadata": {
    "id": "WzdzBLmB2j-e"
   },
   "source": [
    "### Convert categorical columns into numeric\n",
    "\n",
    "There are other columns in the dataset that are still categorical. Be sure to convert categorical columns in the dataset into numeric."
   ]
  },
  {
   "cell_type": "code",
   "execution_count": 16,
   "metadata": {
    "id": "pKog_5f22j-g"
   },
   "outputs": [],
   "source": [
    "# Dummy encode categorical variables\n",
    "# Can use columns=[''] in get_dummies to target specific columns\n",
    "\n",
    "df_subset = pd.get_dummies(df_subset, drop_first=True)"
   ]
  },
  {
   "cell_type": "markdown",
   "metadata": {
    "id": "pPiAhRMq2j-i"
   },
   "source": [
    "<details>\n",
    "  <summary><h4><strong> Hint 1 </strong> </h4></summary>\n",
    "\n",
    "Use the `get_dummies()` function. \n",
    "\n",
    "</details>"
   ]
  },
  {
   "cell_type": "markdown",
   "metadata": {
    "id": "F4ybCX5t2j-j"
   },
   "source": [
    "<details>\n",
    "  <summary><h4><strong> Hint 2 </strong></h4></summary>\n",
    "\n",
    "Set the `drop_first` parameter to `True`. This removes redundant data.\n",
    "\n",
    "</details>"
   ]
  },
  {
   "cell_type": "markdown",
   "metadata": {
    "id": "06bbe8dd"
   },
   "source": [
    "### Check column data types\n",
    "\n",
    "Now that you have converted categorical columns into numeric, check your column data types."
   ]
  },
  {
   "cell_type": "code",
   "execution_count": 17,
   "metadata": {
    "id": "d39eecf9",
    "scrolled": false
   },
   "outputs": [
    {
     "data": {
      "text/plain": [
       "satisfaction                           int64\n",
       "Age                                    int64\n",
       "Class                                  int64\n",
       "Flight Distance                        int64\n",
       "Seat comfort                           int64\n",
       "Departure/Arrival time convenient      int64\n",
       "Food and drink                         int64\n",
       "Gate location                          int64\n",
       "Inflight wifi service                  int64\n",
       "Inflight entertainment                 int64\n",
       "Online support                         int64\n",
       "Ease of Online booking                 int64\n",
       "On-board service                       int64\n",
       "Leg room service                       int64\n",
       "Baggage handling                       int64\n",
       "Checkin service                        int64\n",
       "Cleanliness                            int64\n",
       "Online boarding                        int64\n",
       "Departure Delay in Minutes             int64\n",
       "Arrival Delay in Minutes             float64\n",
       "Customer Type_disloyal Customer        uint8\n",
       "Type of Travel_Personal Travel         uint8\n",
       "dtype: object"
      ]
     },
     "execution_count": 17,
     "metadata": {},
     "output_type": "execute_result"
    }
   ],
   "source": [
    "df_subset.dtypes"
   ]
  },
  {
   "cell_type": "markdown",
   "metadata": {
    "id": "67c44d42"
   },
   "source": [
    "<details>\n",
    "  <summary><h4><strong> Hint 1</strong></h4></summary>\n",
    "\n",
    "Use the `dtypes` attribute on the DataFrame.\n",
    "\n",
    "</details>"
   ]
  },
  {
   "cell_type": "markdown",
   "metadata": {
    "id": "0aaf5733"
   },
   "source": [
    "### Create the training and testing data\n",
    "\n",
    "Put 75% of the data into a training set and the remaining 25% into a testing set. "
   ]
  },
  {
   "cell_type": "code",
   "execution_count": 18,
   "metadata": {
    "id": "77bffb4e"
   },
   "outputs": [],
   "source": [
    "# Define the y (target) variable\n",
    "y = df_subset['satisfaction']\n",
    "\n",
    "# Define the X (predictor) variables\n",
    "X = df_subset.copy()\n",
    "X = X.drop(['satisfaction'], axis=1)\n",
    "\n",
    "# Split into train and test sets\n",
    "X_train, X_test, y_train, y_test = train_test_split(X, y, test_size=0.25, random_state=0)"
   ]
  },
  {
   "cell_type": "markdown",
   "metadata": {
    "id": "acae11f0"
   },
   "source": [
    "<details>\n",
    "  <summary><h4><strong> Hint 1</strong></h4></summary>\n",
    "\n",
    "Use `train_test_split`.\n",
    "\n",
    "</details>"
   ]
  },
  {
   "cell_type": "markdown",
   "metadata": {
    "id": "TVTdzUmKfY3g"
   },
   "source": [
    "<details>\n",
    "  <summary><h4><strong> Hint 2</strong></h4></summary>\n",
    "\n",
    "Pass in `0` to `random_state`.\n",
    "\n",
    "</details>"
   ]
  },
  {
   "cell_type": "markdown",
   "metadata": {
    "id": "101f3580"
   },
   "source": [
    "<details>\n",
    "  <summary><h4><strong>Hint 3</strong></h4></summary>\n",
    "\n",
    "If you named your features matrix X and your target y, then it would be `train_test_split(X, y, test_size=0.25, random_state=0)`.\n",
    "\n",
    "</details>"
   ]
  },
  {
   "cell_type": "markdown",
   "metadata": {
    "id": "58bb9bf2"
   },
   "source": [
    "## Step 3: Model building"
   ]
  },
  {
   "cell_type": "markdown",
   "metadata": {
    "id": "a81f66ae"
   },
   "source": [
    "### Fit a decision tree classifier model to the data\n",
    "\n",
    "Make a decision tree instance called `decision_tree` and pass in `0` to the `random_state` parameter. This is only so that if other data professionals run this code, they get the same results. Fit the model on the training set, use the `predict()` function on the testing set, and assign those predictions to the variable `dt_pred`. "
   ]
  },
  {
   "cell_type": "code",
   "execution_count": 19,
   "metadata": {
    "id": "5a4211cb"
   },
   "outputs": [],
   "source": [
    "# Instantiate the model\n",
    "decision_tree = DecisionTreeClassifier(random_state=0)\n",
    "\n",
    "# Fit the model to training data\n",
    "decision_tree.fit(X_train, y_train)\n",
    "\n",
    "# Make predictions on test data\n",
    "dt_pred = decision_tree.predict(X_test)"
   ]
  },
  {
   "cell_type": "markdown",
   "metadata": {
    "id": "ad9dac6b"
   },
   "source": [
    "<details>\n",
    "  <summary><h4><strong> Hint 1</strong></h4></summary>\n",
    "\n",
    "Use `DecisionTreeClassifier`, the `fit()` function, and the `predict()` function.\n",
    "\n",
    "</details>"
   ]
  },
  {
   "cell_type": "markdown",
   "metadata": {
    "id": "dac3da82"
   },
   "source": [
    "**Question:** What are some advantages of using decision trees versus other models you have learned about? "
   ]
  },
  {
   "cell_type": "markdown",
   "metadata": {
    "id": "RaOxZ4_66j4D"
   },
   "source": [
    "Decision trees don't require assumptions of data distribution and don't require scaling."
   ]
  },
  {
   "cell_type": "markdown",
   "metadata": {
    "id": "d638b5bb"
   },
   "source": [
    "## Step 4: Results and evaluation\n",
    "\n",
    "Print out the decision tree model's accuracy, precision, recall, and F1 score."
   ]
  },
  {
   "cell_type": "code",
   "execution_count": 20,
   "metadata": {
    "id": "6de9be28"
   },
   "outputs": [
    {
     "name": "stdout",
     "output_type": "stream",
     "text": [
      "Decision Tree:\n",
      "Accuracy: 0.935438\n",
      "Precision: 0.942859\n",
      "Recall: 0.939030\n",
      "F1 Score: 0.940940\n"
     ]
    }
   ],
   "source": [
    "# Generate performance metrics\n",
    "\n",
    "print(\"Decision Tree:\")\n",
    "print(\"Accuracy:\", \"%.6f\" % metrics.accuracy_score(y_test, dt_pred))\n",
    "print(\"Precision:\", \"%.6f\" % metrics.precision_score(y_test, dt_pred))\n",
    "print(\"Recall:\", \"%.6f\" % metrics.recall_score(y_test, dt_pred))\n",
    "print(\"F1 Score:\", \"%.6f\" % metrics.f1_score(y_test, dt_pred))"
   ]
  },
  {
   "cell_type": "code",
   "execution_count": 21,
   "metadata": {},
   "outputs": [
    {
     "name": "stdout",
     "output_type": "stream",
     "text": [
      "              precision    recall  f1-score   support\n",
      "\n",
      "dissatisfied   0.926533  0.931089  0.928805     14642\n",
      "   satisfied   0.942859  0.939030  0.940940     17730\n",
      "\n",
      "    accuracy                       0.935438     32372\n",
      "   macro avg   0.934696  0.935059  0.934873     32372\n",
      "weighted avg   0.935474  0.935438  0.935452     32372\n",
      "\n"
     ]
    }
   ],
   "source": [
    "# Print results using classifcation_report\n",
    "# 0: dissatisfied\n",
    "# 1: satisfied\n",
    "\n",
    "target_labels = ['dissatisfied', 'satisfied']\n",
    "print(classification_report(y_test, dt_pred, digits=6, target_names=target_labels))"
   ]
  },
  {
   "cell_type": "markdown",
   "metadata": {
    "id": "3c6c01ff"
   },
   "source": [
    "<details>\n",
    "  <summary><h4><strong> Hint 1</strong></h4></summary>\n",
    "\n",
    "Use four different functions from `metrics` to get the accuracy, precision, recall, and F1 score.\n",
    "    \n",
    "</details>"
   ]
  },
  {
   "cell_type": "markdown",
   "metadata": {
    "id": "72550972"
   },
   "source": [
    "<details>\n",
    "  <summary><h4><strong>Hint 2</strong></h4></summary>\n",
    "\n",
    "Input `y_test` and `y_pred` into the `metrics.accuracy_score`, `metrics.precision_score`, `metrics.recall_score` and `metrics.f1_score` functions.\n",
    "    \n",
    "</details> "
   ]
  },
  {
   "cell_type": "markdown",
   "metadata": {
    "id": "14c49f02"
   },
   "source": [
    "**Question:** Are there any additional steps you could take to improve the performance or function of your decision tree?"
   ]
  },
  {
   "cell_type": "markdown",
   "metadata": {
    "id": "YTIryEN26nqo"
   },
   "source": [
    "Setting max_depth, min_sample_split, or min_samples_leaf could have improved performance."
   ]
  },
  {
   "cell_type": "markdown",
   "metadata": {
    "id": "2d63fb90"
   },
   "source": [
    "### Produce a confusion matrix"
   ]
  },
  {
   "cell_type": "markdown",
   "metadata": {
    "id": "0524c798"
   },
   "source": [
    "Data professionals often like to know the types of errors made by an algorithm. To obtain this information, produce a confusion matrix."
   ]
  },
  {
   "cell_type": "code",
   "execution_count": 22,
   "metadata": {},
   "outputs": [],
   "source": [
    "def conf_matrix_plot(model, x_data, y_data):\n",
    "    '''\n",
    "    Accepts as argument model object, X data (test or validate), and y data (test or validate). \n",
    "    Returns a plot of confusion matrix for predictions on y data.\n",
    "    ''' \n",
    "\n",
    "    # Make predictions on (x) test data\n",
    "    model_pred = model.predict(x_data)\n",
    "    \n",
    "    # Compute values for confusion matrix\n",
    "    cm = confusion_matrix(y_data, model_pred, labels=model.classes_)\n",
    "    \n",
    "    # Create display of confusion matrix\n",
    "    disp = ConfusionMatrixDisplay(confusion_matrix=cm,\n",
    "                             display_labels=model.classes_)\n",
    "\n",
    "    # Plot confusion matrix\n",
    "    disp.plot(values_format='')  # `values_format=''` suppresses scientific notation\n",
    "    \n",
    "    # Display plot\n",
    "    plt.show()"
   ]
  },
  {
   "cell_type": "code",
   "execution_count": 23,
   "metadata": {
    "id": "df15d57b",
    "scrolled": true
   },
   "outputs": [
    {
     "data": {
      "image/png": "[encoded data removed]",
      "text/plain": [
       "<Figure size 432x288 with 2 Axes>"
      ]
     },
     "metadata": {
      "needs_background": "light"
     },
     "output_type": "display_data"
    }
   ],
   "source": [
    "# Generate confusion matrix\n",
    "\n",
    "conf_matrix_plot(decision_tree, X_test, y_test)"
   ]
  },
  {
   "cell_type": "markdown",
   "metadata": {
    "id": "13e29875"
   },
   "source": [
    "<details>\n",
    "  <summary><h4><strong>Hint 1</strong></h4></summary>\n",
    "\n",
    "Refer to [the content about plotting a confusion matrix](https://www.coursera.org/learn/regression-analysis-simplify-complex-data-relationships/lecture/SpRqe/evaluate-a-binomial-logistic-regression-model).\n",
    "\n",
    "</details>"
   ]
  },
  {
   "cell_type": "markdown",
   "metadata": {
    "id": "4fdef8f5"
   },
   "source": [
    "<details>\n",
    "  <summary><h4><strong>Hint 2</strong></h4></summary>\n",
    "\n",
    "Use `metrics.confusion_matrix`, `metrics.ConfusionMatrixDisplay`, and the `plot()` function.\n",
    "\n",
    "</details>"
   ]
  },
  {
   "cell_type": "markdown",
   "metadata": {
    "id": "90154f0f"
   },
   "source": [
    "**Question:** What patterns can you identify between true positives and true negatives, as well as false positives and false negatives?"
   ]
  },
  {
   "cell_type": "markdown",
   "metadata": {
    "id": "2NVELuWM6sPT"
   },
   "source": [
    "True positive and true negative are really high, where the model correctly predicts satisfied and dissatisfied customers.\n",
    "\n",
    "False positive and false negative are about 10-13 times less than TP and TN, and are really close to one another."
   ]
  },
  {
   "cell_type": "markdown",
   "metadata": {
    "id": "3e2c1c7d"
   },
   "source": [
    "### Plot the decision tree\n",
    "\n",
    "Examine the decision tree. Use `plot_tree` function to produce a visual representation of the tree to pinpoint where the splits in the data are occurring."
   ]
  },
  {
   "cell_type": "code",
   "execution_count": 24,
   "metadata": {
    "id": "9ef5e9c3"
   },
   "outputs": [
    {
     "data": {
      "image/png": "[encoded data removed]",
      "text/plain": [
       "<Figure size 1440x720 with 1 Axes>"
      ]
     },
     "metadata": {
      "needs_background": "light"
     },
     "output_type": "display_data"
    }
   ],
   "source": [
    "# Plot the tree\n",
    "\n",
    "plt.figure(figsize=(20,10))\n",
    "plot_tree(decision_tree, max_depth=2, fontsize=14, feature_names=X.columns, \n",
    "          class_names={0:'dissatisfied', 1:'satisfied'}, filled=True);\n",
    "plt.show()"
   ]
  },
  {
   "cell_type": "markdown",
   "metadata": {},
   "source": [
    "### Calculate feature importance\n",
    "\n",
    "The `DecisionTreeClassifier` class comes with a [`feature_importances_`](https://scikit-learn.org/stable/modules/generated/sklearn.tree.DecisionTreeClassifier.html#sklearn.tree.DecisionTreeClassifier.feature_importances_) attribute that provides access to the features' relative importance in the model. The feature importances are computed when the `fit()` method is called on the `DecisionTreeClassifier` instance. In other words, it's information that is generated during model training. Here's how it works.\n",
    "\n",
    "For each feature used in the tree, the algorithm finds all of the decision nodes that use that particular feature as the split criterion. Then for each of those decision nodes it computes the decrease in Gini impurity (or entropy, or log loss, or whatever metric you select when you fit the model&mdash;default is Gini impurity) that results from that split (so, the decrease from parent to children). Then the algorithm sums up the decreases across all the decisions made using that feature and expresses it as a percentage of the total decrease that resulted from _all_ features. \n",
    "\n",
    "Here is a simple example of how you can calculate feature importance from a tree diagram. This tree splits 10 samples using two features, X<sub>1</sub> and X<sub>2</sub>:\n",
    "\n",
    "<img src='./SR-003_build_a_decision_tree_graphic.png'/>\n",
    "\n",
    "Notice that the reduction in Gini impurity is weighted based on how many samples are in each node. Ultimately, the reduction that results from each feature is normalized (i.e., expressed as a percentage), and this percentage represents the importance of a given feature.\n",
    "\n",
    "This can be interpreted as: X<sub>1</sub> is responsible for 64.3% of the overall reduction of Gini impurity in the model, and X<sub>2</sub> is responsible for 35.7% of the overall reduction of Gini impurity in the model.\n",
    "\n",
    "Using the `feature_importances_` attribute to fetch the relative importances of each feature, you can then plot the results."
   ]
  },
  {
   "cell_type": "code",
   "execution_count": 25,
   "metadata": {},
   "outputs": [],
   "source": [
    "def forest_importances_plot(model, x_data):\n",
    "    '''\n",
    "    Accepts as argument model object, X data (test or validate). \n",
    "    Returns a plot of forest_importances.\n",
    "    ''' \n",
    "    \n",
    "    importances = model.feature_importances_\n",
    "\n",
    "    forest_importances = pd.Series(importances, index=x_data.columns).sort_values(ascending=False)\n",
    "\n",
    "    fig, ax = plt.subplots()\n",
    "    forest_importances.plot.bar(ax=ax);"
   ]
  },
  {
   "cell_type": "code",
   "execution_count": 26,
   "metadata": {},
   "outputs": [
    {
     "data": {
      "image/png": "[encoded data removed]",
      "text/plain": [
       "<Figure size 432x288 with 1 Axes>"
      ]
     },
     "metadata": {
      "needs_background": "light"
     },
     "output_type": "display_data"
    }
   ],
   "source": [
    "# Plot and display `feature_importances_` attribute relative to each feature\n",
    "\n",
    "forest_importances_plot(decision_tree, X)"
   ]
  },
  {
   "cell_type": "markdown",
   "metadata": {
    "id": "2cfefc38"
   },
   "source": [
    "<details>\n",
    "  <summary><h4><strong>Hint 1</strong></h4></summary>\n",
    "\n",
    "If your tree is hard to read, pass `2` or `3` in the parameter `max_depth`. \n",
    "\n",
    "</details>"
   ]
  },
  {
   "cell_type": "markdown",
   "metadata": {
    "id": "9a84e65a"
   },
   "source": [
    "### Hyperparameter tuning\n",
    "\n",
    "Knowing how and when to adjust or tune a model can help a data professional significantly increase performance. In this section, you will find the best values for the hyperparameters `max_depth` and `min_samples_leaf` using grid search and cross validation. Below are some values for the hyperparameters `max_depth` and `min_samples_leaf`.   "
   ]
  },
  {
   "cell_type": "code",
   "execution_count": 27,
   "metadata": {
    "id": "7b47fcab"
   },
   "outputs": [],
   "source": [
    "# Assign a dictionary of hyperparameters to search over\n",
    "tree_param = {'max_depth': [1,2,3,4,5,6,7,8,9,10,11,12,13,14,15,16,17,18,19,20,30,40,50],\n",
    "             'min_samples_leaf': [2,3,4,5,6,7,8,9,10,15,20,50]}\n",
    "\n",
    "# Assign a dictionary of scoring metrics to capture\n",
    "scoring = {'accuracy', 'precision', 'recall', 'f1'}"
   ]
  },
  {
   "cell_type": "markdown",
   "metadata": {
    "id": "22672b1f"
   },
   "source": [
    "### Check combinations of values\n",
    "\n",
    "Check every combination of values to examine which pair has the best evaluation metrics. Make a decision tree instance called `tuned_decision_tree` with `random_state=0`, make a `GridSearchCV` instance called `clf`, make sure to refit the estimator using `\"f1\"`, and fit the model on the training set. \n",
    "\n",
    "**Note:** This cell may take up to 15 minutes to run."
   ]
  },
  {
   "cell_type": "code",
   "execution_count": 28,
   "metadata": {
    "id": "ca41e241"
   },
   "outputs": [
    {
     "data": {
      "text/plain": [
       "GridSearchCV(cv=5, error_score=nan,\n",
       "             estimator=DecisionTreeClassifier(ccp_alpha=0.0, class_weight=None,\n",
       "                                              criterion='gini', max_depth=None,\n",
       "                                              max_features=None,\n",
       "                                              max_leaf_nodes=None,\n",
       "                                              min_impurity_decrease=0.0,\n",
       "                                              min_impurity_split=None,\n",
       "                                              min_samples_leaf=1,\n",
       "                                              min_samples_split=2,\n",
       "                                              min_weight_fraction_leaf=0.0,\n",
       "                                              presort='deprecated',\n",
       "                                              random_state=0, splitter='best'),\n",
       "             iid='deprecated', n_jobs=None,\n",
       "             param_grid={'max_depth': [1, 2, 3, 4, 5, 6, 7, 8, 9, 10, 11, 12,\n",
       "                                       13, 14, 15, 16, 17, 18, 19, 20, 30, 40,\n",
       "                                       50],\n",
       "                         'min_samples_leaf': [2, 3, 4, 5, 6, 7, 8, 9, 10, 15,\n",
       "                                              20, 50]},\n",
       "             pre_dispatch='2*n_jobs', refit='f1', return_train_score=False,\n",
       "             scoring={'recall', 'precision', 'accuracy', 'f1'}, verbose=0)"
      ]
     },
     "execution_count": 28,
     "metadata": {},
     "output_type": "execute_result"
    }
   ],
   "source": [
    "# Instantiate the classifier\n",
    "tuned_decision_tree = DecisionTreeClassifier(random_state=0)\n",
    "\n",
    "# Instantiate the GridSearch\n",
    "clf = GridSearchCV(tuned_decision_tree, \n",
    "                   tree_param, \n",
    "                   scoring=scoring, \n",
    "                   cv=5, \n",
    "                   refit='f1')\n",
    "\n",
    "# Fit the model\n",
    "clf.fit(X_train, y_train)"
   ]
  },
  {
   "cell_type": "markdown",
   "metadata": {
    "id": "ab2eca46"
   },
   "source": [
    "<details>\n",
    "  <summary><h4><strong>Hint 1</strong></h4></summary>\n",
    "\n",
    "Refer to [the content about decision trees and grid search](https://www.coursera.org/learn/the-nuts-and-bolts-of-machine-learning/lecture/afopk/tune-a-decision-tree). \n",
    "\n",
    "</details>"
   ]
  },
  {
   "cell_type": "markdown",
   "metadata": {
    "id": "6122d0d0"
   },
   "source": [
    "<details>\n",
    "  <summary><h4><strong> Hint 2</strong></h4></summary>\n",
    "\n",
    "Use `DecisionTreeClassifier()`, `GridSearchCV()`, and the `clf.fit()` function.\n",
    "\n",
    "</details>"
   ]
  },
  {
   "cell_type": "markdown",
   "metadata": {
    "id": "59b8a1db"
   },
   "source": [
    "**Question:** How can you determine the best combination of values for the hyperparameters? "
   ]
  },
  {
   "cell_type": "markdown",
   "metadata": {},
   "source": [
    "We look at:  \n",
    "`max_depth`  \n",
    "`min_samples_leaf`  \n",
    "`min_samples_split`  \n",
    "in the `.best_estimator_` attribute.  We can get even more precise by re-running `GridSearchCV` with `tree_para` hyperparameters closer to the `.best_estimator_` values."
   ]
  },
  {
   "cell_type": "markdown",
   "metadata": {},
   "source": [
    "### Compute the best combination of values for the hyperparameters"
   ]
  },
  {
   "cell_type": "code",
   "execution_count": 29,
   "metadata": {
    "id": "213279f3",
    "scrolled": true
   },
   "outputs": [
    {
     "data": {
      "text/plain": [
       "DecisionTreeClassifier(ccp_alpha=0.0, class_weight=None, criterion='gini',\n",
       "                       max_depth=18, max_features=None, max_leaf_nodes=None,\n",
       "                       min_impurity_decrease=0.0, min_impurity_split=None,\n",
       "                       min_samples_leaf=2, min_samples_split=2,\n",
       "                       min_weight_fraction_leaf=0.0, presort='deprecated',\n",
       "                       random_state=0, splitter='best')"
      ]
     },
     "execution_count": 29,
     "metadata": {},
     "output_type": "execute_result"
    }
   ],
   "source": [
    "# Examine the best model from GridSearch\n",
    "\n",
    "clf.best_estimator_"
   ]
  },
  {
   "cell_type": "markdown",
   "metadata": {
    "id": "2519f981"
   },
   "source": [
    "<details>\n",
    "  <summary><h4><strong> Hint 1</strong></h4></summary>\n",
    "\n",
    "Use the `best_estimator_` attribute.\n",
    "\n",
    "</details>"
   ]
  },
  {
   "cell_type": "markdown",
   "metadata": {},
   "source": [
    "**Question:** What is the best combination of values for the hyperparameters? "
   ]
  },
  {
   "cell_type": "markdown",
   "metadata": {},
   "source": [
    "`max_depth`=18  \n",
    "`min_samples_leaf`=2\n",
    "\n",
    "Given our hyperparameters above, `min_samples_split`=2 would be the best combo found by the model."
   ]
  },
  {
   "cell_type": "markdown",
   "metadata": {
    "id": "6b001fad"
   },
   "source": [
    "<strong> Question: What was the best average validation score? </strong>"
   ]
  },
  {
   "cell_type": "code",
   "execution_count": 30,
   "metadata": {
    "id": "e615523c"
   },
   "outputs": [
    {
     "name": "stdout",
     "output_type": "stream",
     "text": [
      "Best Avg. Validation Score:  0.9454\n"
     ]
    }
   ],
   "source": [
    "print(\"Best Avg. Validation Score: \", \"%.4f\" % clf.best_score_)"
   ]
  },
  {
   "cell_type": "markdown",
   "metadata": {
    "id": "kOBEhD6Z65oM"
   },
   "source": [
    "Best average valication score is 0.9454."
   ]
  },
  {
   "cell_type": "markdown",
   "metadata": {
    "id": "19a7569f"
   },
   "source": [
    "<details>\n",
    "  <summary><h4><strong>Hint 1</strong> </h4></summary>\n",
    "\n",
    "Use the `.best_score_` attribute.\n",
    "\n",
    "</details>"
   ]
  },
  {
   "cell_type": "markdown",
   "metadata": {
    "id": "dfad3e62"
   },
   "source": [
    "### Determine the \"best\" decision tree model's accuracy, precision, recall, and F1 score\n",
    "\n",
    "Print out the decision tree model's accuracy, precision, recall, and F1 score. This task can be done in a number of ways. "
   ]
  },
  {
   "cell_type": "code",
   "execution_count": 31,
   "metadata": {
    "id": "e8b96047"
   },
   "outputs": [
    {
     "data": {
      "text/html": [
       "<div>\n",
       "<style scoped>\n",
       "    .dataframe tbody tr th:only-of-type {\n",
       "        vertical-align: middle;\n",
       "    }\n",
       "\n",
       "    .dataframe tbody tr th {\n",
       "        vertical-align: top;\n",
       "    }\n",
       "\n",
       "    .dataframe thead th {\n",
       "        text-align: right;\n",
       "    }\n",
       "</style>\n",
       "<table border=\"1\" class=\"dataframe\">\n",
       "  <thead>\n",
       "    <tr style=\"text-align: right;\">\n",
       "      <th></th>\n",
       "      <th>Model</th>\n",
       "      <th>F1</th>\n",
       "      <th>Recall</th>\n",
       "      <th>Precision</th>\n",
       "      <th>Accuracy</th>\n",
       "    </tr>\n",
       "  </thead>\n",
       "  <tbody>\n",
       "    <tr>\n",
       "      <th>0</th>\n",
       "      <td>Tuned Decision Tree</td>\n",
       "      <td>0.945422</td>\n",
       "      <td>0.935863</td>\n",
       "      <td>0.955197</td>\n",
       "      <td>0.940864</td>\n",
       "    </tr>\n",
       "  </tbody>\n",
       "</table>\n",
       "</div>"
      ],
      "text/plain": [
       "                 Model        F1    Recall  Precision  Accuracy\n",
       "0  Tuned Decision Tree  0.945422  0.935863   0.955197  0.940864"
      ]
     },
     "execution_count": 31,
     "metadata": {},
     "output_type": "execute_result"
    }
   ],
   "source": [
    "results = pd.DataFrame(columns=['Model', 'F1', 'Recall', 'Precision', 'Accuracy'])\n",
    "\n",
    "def make_results(model_name, model_object):\n",
    "    '''\n",
    "    Accepts as arguments a model name (your choice - string) and\n",
    "    a fit GridSearchCV model object.\n",
    "  \n",
    "    Returns a pandas df with the F1, recall, precision, and accuracy scores\n",
    "    for the model with the best mean F1 score across all validation folds.  \n",
    "    '''\n",
    "\n",
    "    # Get all the results from the CV and put them in a df\n",
    "    cv_results = pd.DataFrame(model_object.cv_results_)\n",
    "\n",
    "    # Isolate the row of the df with the max(mean f1 score)\n",
    "    best_estimator_results = cv_results.iloc[cv_results['mean_test_f1'].idxmax(), :]\n",
    "    \n",
    "    # Extract accuracy, precision, recall, and f1 score from that row\n",
    "    f1 = best_estimator_results.mean_test_f1\n",
    "    recall = best_estimator_results.mean_test_recall\n",
    "    precision = best_estimator_results.mean_test_precision\n",
    "    accuracy = best_estimator_results.mean_test_accuracy\n",
    "    \n",
    "    # Create table of results\n",
    "    table = pd.DataFrame({'Model': [model_name],\n",
    "                        'F1': [f1],\n",
    "                        'Recall': [recall],\n",
    "                        'Precision': [precision],\n",
    "                        'Accuracy': [accuracy]\n",
    "                         }\n",
    "                        )\n",
    "  \n",
    "    return table\n",
    "\n",
    "result_table = make_results(\"Tuned Decision Tree\", clf)\n",
    "\n",
    "result_table"
   ]
  },
  {
   "cell_type": "markdown",
   "metadata": {
    "id": "bb7d7d85"
   },
   "source": [
    "<details>\n",
    "  <summary><h4><strong>Hint 1</strong></h4></summary>\n",
    "\n",
    "Get all the results (`.cv_results_`) from the GridSearchCV instance (`clf`).\n",
    "\n",
    "</details>"
   ]
  },
  {
   "cell_type": "markdown",
   "metadata": {
    "id": "28e0535f"
   },
   "source": [
    "<details>\n",
    "  <summary><h4><strong>Hint 2</strong></h4></summary>\n",
    "\n",
    "Output `mean_test_f1`, `mean_test_recall`, `mean_test_precision`, and `mean_test_accuracy` from `clf.cv_results_`.\n",
    "</details>"
   ]
  },
  {
   "cell_type": "markdown",
   "metadata": {
    "id": "ac4e8ee6"
   },
   "source": [
    "**Question:** Was the additional performance improvement from hyperparameter tuning worth the computational cost? Why or why not?"
   ]
  },
  {
   "cell_type": "markdown",
   "metadata": {
    "id": "DGJjCpVt7T6w"
   },
   "source": [
    "F1 score without hyperparameter tuning is 0.940940. F1 score with hyperparameter tuning is 0.945422. The improvement was minimal with higher computational cost. If computational resources were not an issue, hyperparameter tuning would be the better option."
   ]
  },
  {
   "cell_type": "code",
   "execution_count": 32,
   "metadata": {},
   "outputs": [
    {
     "data": {
      "image/png": "[encoded data removed]",
      "text/plain": [
       "<Figure size 432x288 with 2 Axes>"
      ]
     },
     "metadata": {
      "needs_background": "light"
     },
     "output_type": "display_data"
    }
   ],
   "source": [
    "# Generate confusion matrix\n",
    "\n",
    "conf_matrix_plot(clf.best_estimator_, X_test, y_test)"
   ]
  },
  {
   "cell_type": "markdown",
   "metadata": {
    "id": "46b88d61"
   },
   "source": [
    "### Plot the \"best\" decision tree\n",
    "\n",
    "Use the `plot_tree` function to produce a representation of the tree to pinpoint where the splits in the data are occurring. This will allow you to review the \"best\" decision tree."
   ]
  },
  {
   "cell_type": "code",
   "execution_count": 33,
   "metadata": {
    "id": "e5ab9b48"
   },
   "outputs": [
    {
     "data": {
      "image/png": "[encoded data removed]",
      "text/plain": [
       "<Figure size 1440x720 with 1 Axes>"
      ]
     },
     "metadata": {
      "needs_background": "light"
     },
     "output_type": "display_data"
    }
   ],
   "source": [
    "# Plot the tree\n",
    "\n",
    "plt.figure(figsize=(20,10))\n",
    "plot_tree(clf.best_estimator_, max_depth=2, fontsize=14, feature_names=X.columns, \n",
    "          class_names={0:'dissatisfied', 1:'satisfied'}, filled=True);\n",
    "plt.show()"
   ]
  },
  {
   "cell_type": "markdown",
   "metadata": {
    "id": "65d32f07"
   },
   "source": [
    "Which features did the model use first to sort the samples?\n",
    "\n",
    "`Inflight entertainment`, `Seat comfort`, and `Ease of Online booking` were highly important features since they were in nodes 0 and 1."
   ]
  },
  {
   "cell_type": "markdown",
   "metadata": {},
   "source": [
    "### Build another feature importance graph\n",
    "\n",
    "You can build another feature importance graph to validate which features are most important."
   ]
  },
  {
   "cell_type": "code",
   "execution_count": 34,
   "metadata": {},
   "outputs": [
    {
     "data": {
      "image/png": "[encoded data removed]",
      "text/plain": [
       "<Figure size 432x288 with 1 Axes>"
      ]
     },
     "metadata": {
      "needs_background": "light"
     },
     "output_type": "display_data"
    }
   ],
   "source": [
    "# Plot and display `feature_importances_` attribute relative to each feature\n",
    "\n",
    "forest_importances_plot(clf.best_estimator_, X)"
   ]
  },
  {
   "cell_type": "markdown",
   "metadata": {},
   "source": [
    "**Question:** What do you think is the most important metric in this business case?\n",
    "\n",
    "Any of the metrics in this business case could be considered important, depending on what the stakeholder or domain expert cares about. The following are reasons why each metric is important: \n",
    "\n",
    "- Accuracy tends to be the metric that the stakeholders can best understand.\n",
    "\n",
    "- Precision measures what proportion of predicted positives is truly positive. For example, if you wanted to not falsely claiming a customer is satisfied, precision would be a good metric. Assuming a customer is happy when they are really not might lead to customer churn. \n",
    "\n",
    "- Recall measures the percentage of actual positives a model correctly identified (true positive). For this dataset, the airline might want to limit false negatives (actually satisfied people who are predicted to be unsatisfied). Assuming a customer is unhappy when the customer is happy can lead to the airline wasting resources trying to improve the customer experience of an already happy customer. \n",
    "\n",
    "- F1 balances precision and recall. It is the harmonic mean of precision and recall, or their product divided by their sum."
   ]
  },
  {
   "cell_type": "markdown",
   "metadata": {
    "id": "090f4bd3"
   },
   "source": [
    "## Conclusion\n",
    "\n",
    "**What are some key takeaways that you learned from this lab?**\n",
    "\n",
    "*   Machine learning workflows may be used to clean and encode data for machine learning.\n",
    "*   While hyperparameter tuning can lead to an increase in performance, it doesn't always. \n",
    "*   The visualization of the decision tree as well as the feature graph can be used to determine which features are most important for a decision tree.\n",
    "\n",
    "**What findings would you share with others?**\n",
    "\n",
    "*   Decision trees accurately predicted satisfaction over 94 percent of the time.  \n",
    "*   The confusion matrix is useful as it shows a similar number of true positives and true negatives. \n",
    "*   The visualization of the decision tree and the feature importance graph both suggest that `'Inflight entertainment'`, `'Seat comfort'`, and `'Ease of Online booking'` are the most important features in the model.\n",
    "\n",
    "**What would you recommend to stakeholders?**\n",
    " \n",
    "*  Customer satisfaction is highly tied to `'Inflight entertainment'`, `'Seat comfort'`, and `'Ease of Online booking'`. Improving these experiences should lead to better customer satisfaction. \n",
    "*  The success of the model suggests that the airline should invest more effort into model building and model understanding since this model semed to be very good at predicting customer satisfaction. "
   ]
  },
  {
   "cell_type": "markdown",
   "metadata": {},
   "source": [
    "**Congratulations!** You've completed this lab. However, you may not notice a green check mark next to this item on Coursera's platform. Please continue your progress regardless of the check mark. Just click on the \"save\" icon at the top of this notebook to ensure your work has been logged"
   ]
  }
 ],
 "metadata": {
  "colab": {
   "collapsed_sections": [],
   "provenance": []
  },
  "gpuClass": "standard",
  "kernelspec": {
   "display_name": "Python 3",
   "language": "python",
   "name": "python3"
  },
  "language_info": {
   "codemirror_mode": {
    "name": "ipython",
    "version": 3
   },
   "file_extension": ".py",
   "mimetype": "text/x-python",
   "name": "python",
   "nbconvert_exporter": "python",
   "pygments_lexer": "ipython3",
   "version": "3.7.6"
  }
 },
 "nbformat": 4,
 "nbformat_minor": 5
}
